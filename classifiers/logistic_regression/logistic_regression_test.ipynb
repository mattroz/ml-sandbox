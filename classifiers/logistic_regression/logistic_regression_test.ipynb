{
 "cells": [
  {
   "cell_type": "code",
   "execution_count": 1,
   "metadata": {},
   "outputs": [
    {
     "name": "stderr",
     "output_type": "stream",
     "text": [
      "/opt/anaconda3/lib/python3.6/site-packages/sklearn/cross_validation.py:44: DeprecationWarning: This module was deprecated in version 0.18 in favor of the model_selection module into which all the refactored classes and functions are moved. Also note that the interface of the new CV iterators are different from that of this module. This module will be removed in 0.20.\n",
      "  \"This module will be removed in 0.20.\", DeprecationWarning)\n"
     ]
    }
   ],
   "source": [
    "import numpy as np\n",
    "import pandas as pd\n",
    "import matplotlib.pyplot as plt\n",
    "from logistic_regression import LogisticRegression\n",
    "from sklearn.linear_model import LogisticRegression as LgReg\n",
    "from sklearn.metrics import accuracy_score\n",
    "from sklearn.cross_validation import train_test_split\n",
    "from sklearn.preprocessing import StandardScaler"
   ]
  },
  {
   "cell_type": "code",
   "execution_count": 2,
   "metadata": {},
   "outputs": [
    {
     "data": {
      "image/png": "[encoded data removed]",
      "text/plain": [
       "<matplotlib.figure.Figure at 0x7fcb18176908>"
      ]
     },
     "metadata": {},
     "output_type": "display_data"
    }
   ],
   "source": [
    "# Generate synthetic data\n",
    "x1 = 1 + .5 * np.random.randn(3000)\n",
    "x2 = 5.5 + .5 * np.random.randn(3000)\n",
    "y1 = 7 + 2.1 * np.random.randn(3000)\n",
    "y2 = 5 + 3 * np.random.randn(3000)\n",
    "plt.scatter(x1,y1,color='red')\n",
    "plt.scatter(x2,y2,color='blue')\n",
    "plt.show()"
   ]
  },
  {
   "cell_type": "code",
   "execution_count": 3,
   "metadata": {
    "collapsed": true
   },
   "outputs": [],
   "source": [
    "# Preprocess generated data\n",
    "trainset = np.concatenate((x1, x2))\n",
    "y = np.concatenate((y1, y2))\n",
    "trainset = np.array(list(zip(trainset, y)))\n",
    "target = np.array((-np.ones(3000), np.ones(3000))).ravel()"
   ]
  },
  {
   "cell_type": "code",
   "execution_count": 4,
   "metadata": {
    "collapsed": true
   },
   "outputs": [],
   "source": [
    "# Standardize data\n",
    "scaler = StandardScaler().fit(trainset)\n",
    "trainset_std = scaler.transform(trainset)\n",
    "X_train, X_test, y_train, y_test = train_test_split(trainset_std, target, test_size=0.3)"
   ]
  },
  {
   "cell_type": "code",
   "execution_count": 12,
   "metadata": {},
   "outputs": [
    {
     "name": "stderr",
     "output_type": "stream",
     "text": [
      "/home/matt/work/dev/ml/ml-sandbox/classifiers/logistic_regression/logistic_regression.py:17: RuntimeWarning: divide by zero encountered in log\n",
      "  errors = - y * np.log(phi_z) - (1 - y)*np.log(1 - phi_z)\n",
      "/home/matt/work/dev/ml/ml-sandbox/classifiers/logistic_regression/logistic_regression.py:17: RuntimeWarning: invalid value encountered in multiply\n",
      "  errors = - y * np.log(phi_z) - (1 - y)*np.log(1 - phi_z)\n",
      "/home/matt/work/dev/ml/ml-sandbox/classifiers/logistic_regression/logistic_regression.py:36: RuntimeWarning: overflow encountered in exp\n",
      "  return 1 / (1 + np.exp(-self.net_input(X)))\n"
     ]
    }
   ],
   "source": [
    "# Divide by zero warning appears due to precision restriction in numpy,\n",
    "# so it is essential to set some precision variables.\n",
    "logreg = LogisticRegression(n_iters=10000, learning_rate=0.001).fit(X_train, y_train)"
   ]
  },
  {
   "cell_type": "code",
   "execution_count": 13,
   "metadata": {},
   "outputs": [
    {
     "name": "stdout",
     "output_type": "stream",
     "text": [
      "0.975\n"
     ]
    },
    {
     "name": "stderr",
     "output_type": "stream",
     "text": [
      "/home/matt/work/dev/ml/ml-sandbox/classifiers/logistic_regression/logistic_regression.py:36: RuntimeWarning: overflow encountered in exp\n",
      "  return 1 / (1 + np.exp(-self.net_input(X)))\n"
     ]
    }
   ],
   "source": [
    "# As we can see, model still gives very good predictions.\n",
    "# Overflow warning has the same reason as 'divide-by-zero'\n",
    "print(accuracy_score(y_test, logreg.predict(X_test)))"
   ]
  },
  {
   "cell_type": "code",
   "execution_count": 7,
   "metadata": {},
   "outputs": [
    {
     "data": {
      "text/plain": [
       "LogisticRegression(C=1000.0, class_weight=None, dual=False,\n",
       "          fit_intercept=True, intercept_scaling=1, max_iter=100,\n",
       "          multi_class='ovr', n_jobs=1, penalty='l2', random_state=None,\n",
       "          solver='liblinear', tol=0.0001, verbose=0, warm_start=False)"
      ]
     },
     "execution_count": 7,
     "metadata": {},
     "output_type": "execute_result"
    }
   ],
   "source": [
    "# Train sklearn Linear regressor:\n",
    "sklogreg = LgReg(C=1000.0)\n",
    "sklogreg.fit(X_train, y_train)"
   ]
  },
  {
   "cell_type": "code",
   "execution_count": 9,
   "metadata": {},
   "outputs": [
    {
     "name": "stdout",
     "output_type": "stream",
     "text": [
      "1.0\n"
     ]
    }
   ],
   "source": [
    "print(accuracy_score(y_test, sklogreg.predict(X_test)))"
   ]
  },
  {
   "cell_type": "code",
   "execution_count": null,
   "metadata": {
    "collapsed": true
   },
   "outputs": [],
   "source": []
  }
 ],
 "metadata": {
  "kernelspec": {
   "display_name": "Python 3",
   "language": "python",
   "name": "python3"
  },
  "language_info": {
   "codemirror_mode": {
    "name": "ipython",
    "version": 3
   },
   "file_extension": ".py",
   "mimetype": "text/x-python",
   "name": "python",
   "nbconvert_exporter": "python",
   "pygments_lexer": "ipython3",
   "version": "3.6.1"
  }
 },
 "nbformat": 4,
 "nbformat_minor": 2
}
