{
 "cells": [
  {
   "cell_type": "code",
   "execution_count": 8,
   "metadata": {},
   "outputs": [],
   "source": [
    "import numpy as np\n",
    "import pandas as pd\n",
    "import matplotlib.pyplot as plt\n",
    "from logistic_regression import LogisticRegression\n",
    "from sklearn.metrics import accuracy_score\n",
    "from sklearn.cross_validation import train_test_split"
   ]
  },
  {
   "cell_type": "code",
   "execution_count": 9,
   "metadata": {
    "collapsed": true
   },
   "outputs": [],
   "source": [
    "# Preprocess iris data (take only two classes)\n",
    "df = pd.read_csv('https://archive.ics.uci.edu/ml/machine-learning-databases/iris/iris.data', header=None)\n",
    "trainset = df.iloc[:100, [0,2]].values\n",
    "target = df.iloc[:100,4].values\n",
    "target = np.where(target == 'Iris-setosa', -1, 1)"
   ]
  },
  {
   "cell_type": "code",
   "execution_count": 10,
   "metadata": {},
   "outputs": [
    {
     "data": {
      "image/png": "[encoded data removed]",
      "text/plain": [
       "<matplotlib.figure.Figure at 0x7f13d734b7b8>"
      ]
     },
     "metadata": {},
     "output_type": "display_data"
    }
   ],
   "source": [
    "# Plot iris data\n",
    "plt.scatter(trainset[:50, 0], trainset[:50, 1], color='red')\n",
    "plt.scatter(trainset[50:, 0], trainset[50:, 1], color='blue')\n",
    "plt.show()"
   ]
  },
  {
   "cell_type": "code",
   "execution_count": 11,
   "metadata": {},
   "outputs": [],
   "source": [
    "# Standardize data\n",
    "trainset_std = np.copy(trainset)\n",
    "trainset_std[:, 0] = (trainset[:, 0] - np.mean(trainset[:, 0])) / np.std(trainset[:, 0])\n",
    "trainset_std[:, 1] = (trainset[:, 1] - np.mean(trainset[:, 1])) / np.std(trainset[:, 1])\n",
    "\n",
    "X_train, X_test, y_train, y_test = train_test_split(trainset_std, target, test_size=0.3)"
   ]
  },
  {
   "cell_type": "code",
   "execution_count": 15,
   "metadata": {},
   "outputs": [
    {
     "name": "stdout",
     "output_type": "stream",
     "text": [
      "[-0.48956507  0.14504896 -0.45273733 -0.27550867  0.1440618  -0.36560373\n",
      " -0.50797895 -0.09235709 -0.4711512  -0.05158073  0.25454504 -0.20185317\n",
      " -1.12812772 -0.09136994  0.05297959  0.39988172  0.87370666 -0.25215903\n",
      " -0.01475298 -0.40243147 -0.38006899 -0.69014337 -0.50797895 -0.16107682\n",
      " -0.78221274 -0.05158073 -0.59906116 -0.32976313 -0.71250586  0.30879951\n",
      " -0.83548005  0.69154223 -0.90913554  0.07632923 -0.41689673 -0.65627709\n",
      " -0.08840848  0.72738283 -0.40243147 -0.38006899 -0.2705729   0.49096394\n",
      " -0.21927989  0.27690753  0.3446401  -0.69014337 -0.50797895 -0.92754942\n",
      " -0.2705729   0.83786607 -0.05750365 -0.08840848 -0.22026705 -0.38006899\n",
      " -0.60399692 -0.34718985 -0.36165512 -0.43432345 -0.72697112 -0.59906116\n",
      " -1.00021776 -0.22026705 -0.78122559 -0.4711512   1.1111127  -0.72697112\n",
      " -0.39848286  0.96478887 -1.18238218 -0.90913554]\n",
      "[ 1.80790234  0.0406372   2.03511074 -0.84923579 -0.53370403 -0.26857436\n",
      "  1.69429814 -0.28753499  1.92150654  2.23703831  0.14792119 -0.39481898\n",
      "  1.27780259  0.28680623 -0.52738382 -0.09192764 -0.00992449  2.13607453\n",
      "  2.46424671 -0.49578276  1.91518633  1.70693856  1.69429814  2.12975432\n",
      "  1.13891755  2.23703831  1.70061835 -0.61570718 -0.70403054 -0.08560743\n",
      "  1.94678739  0.00271593  1.49237058  2.4579265   1.68797793  0.21112329\n",
      "  2.0098299  -0.34441689 -0.49578276  1.91518633  2.02247032 -0.09824785\n",
      "  0.06591804  2.55889028 -0.43274025  1.70693856  1.69429814  1.37876637\n",
      "  2.02247032  0.33720833 -1.20900903  2.0098299  -0.50842318  1.91518633\n",
      " -1.17108777 -0.15497016  2.02879053  2.14871495  1.47973015  1.70061835\n",
      "  1.49869079 -0.50842318  1.71325877  1.92150654  0.3182477   1.47973015\n",
      "  1.80158213 -0.0162447   1.51133121  1.49237058]\n",
      "[ 2.33510212  5.36700771  2.42090747  3.92115258  5.5200389   3.40057682\n",
      "  2.29219944  4.50321053  2.3780048   3.97689111  5.77745496  4.09276329\n",
      " -0.0846787   4.35017934  5.15249433  6.42673875  8.30736429  3.19889929\n",
      "  4.06269647  3.31477146  2.74554937  1.5571103   2.29219944  3.56644387\n",
      "  1.34259692  3.97689111  1.92465487  3.63941336  2.12633239  6.05919418\n",
      "  0.9078265   7.57227514  0.7362158   4.43024104  2.65974402  2.10200923\n",
      "  3.89108576  7.81111169  3.31477146  2.74554937  3.15599662  6.79428332\n",
      "  3.89682942  5.20823286  6.29803072  1.5571103   2.29219944  0.69331313\n",
      "  3.15599662  8.06852774  4.89507827  3.89108576  4.04986061  2.74554937\n",
      "  2.68981084  3.44347949  2.78845204  2.46381015  1.47130495  1.92465487\n",
      "  0.36867123  4.04986061  1.18956573  2.3780048   9.17116146  1.47130495\n",
      "  2.70264669  8.67490886 -0.36641792  0.7362158 ]\n",
      "[ 2.25927105  5.69960228  2.33232766  4.21089907  5.91578633  3.59588944\n",
      "  2.22274274  4.79236619  2.29579936  4.00068661  6.13495617  4.3570123\n",
      " -0.31632399  4.57618214  5.51696074  6.85955073  8.89020695  3.16650714\n",
      "  4.07374323  3.52283282  2.69462494  1.42509157  2.22274274  3.56533272\n",
      "  1.24245004  4.00068661  1.82391716  3.8851301   2.25329946  6.46072514\n",
      "  0.70049702  8.09255578  0.55438379  4.47256881  2.62156832  2.14670033\n",
      "  3.92763     8.38179645  3.52283282  2.69462494  3.12997883  7.25837631\n",
      "  4.10429994  5.30674829  6.7499658   1.42509157  2.22274274  0.51785548\n",
      "  3.12997883  8.60096629  5.2977909   3.92763     4.32048399  2.69462494\n",
      "  2.9048374   3.63241775  2.73115325  2.36885597  1.35203496  1.82391716\n",
      "  0.15555821  4.32048399  1.02626599  2.29579936  9.79744304  1.35203496\n",
      "  2.65809663  9.28903254 -0.64209296  0.55438379]\n",
      "[ 4.60518058  5.32932358  4.79319246  3.93700643  5.07271709  3.98018971\n",
      "  4.51117464  4.62045934  4.69918652  5.83489718  5.63675273  4.31303019\n",
      "  2.85461163  4.87706583  4.85929388  5.87558727  7.03670925  5.31404482\n",
      "  6.02290906  3.79217783  4.91260973  4.08432822  4.51117464  5.52746803\n",
      "  3.61429853  5.83489718  4.29775143  3.9115951   2.96389633  5.66216406\n",
      "  3.84549369  6.60986283  3.46946993  6.23633227  4.72459785  3.50252064\n",
      "  5.6468853   6.54126822  3.79217783  4.91260973  5.22003888  6.08901048\n",
      "  4.47563074  6.75718463  5.59356945  4.08432822  4.51117464  3.37546399\n",
      "  5.22003888  7.10530386  4.29525824  5.6468853   4.21902425  4.91260973\n",
      "  3.01471899  4.07419565  5.00661567  4.8871984   3.89631635  4.29775143\n",
      "  3.25604672  4.21902425  3.87090502  4.69918652  7.74557349  3.89631635\n",
      "  4.81860379  7.25013246  2.8292003   3.46946993]\n"
     ]
    }
   ],
   "source": [
    "logreg = LogisticRegression(n_iters=5, learning_rate=0.01).fit(X_train, y_train)"
   ]
  },
  {
   "cell_type": "code",
   "execution_count": 14,
   "metadata": {},
   "outputs": [
    {
     "name": "stdout",
     "output_type": "stream",
     "text": [
      "0.0\n"
     ]
    }
   ],
   "source": [
    "print(accuracy_score(y_test, logreg.predict(X_test)))"
   ]
  },
  {
   "cell_type": "code",
   "execution_count": null,
   "metadata": {
    "collapsed": true
   },
   "outputs": [],
   "source": []
  }
 ],
 "metadata": {
  "kernelspec": {
   "display_name": "Python 3",
   "language": "python",
   "name": "python3"
  },
  "language_info": {
   "codemirror_mode": {
    "name": "ipython",
    "version": 3
   },
   "file_extension": ".py",
   "mimetype": "text/x-python",
   "name": "python",
   "nbconvert_exporter": "python",
   "pygments_lexer": "ipython3",
   "version": "3.6.1"
  }
 },
 "nbformat": 4,
 "nbformat_minor": 2
}
