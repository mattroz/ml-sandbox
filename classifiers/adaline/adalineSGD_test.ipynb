{
 "cells": [
  {
   "cell_type": "code",
   "execution_count": 10,
   "metadata": {},
   "outputs": [],
   "source": [
    "import numpy as np\n",
    "import pandas as pd\n",
    "import matplotlib.pyplot as plt\n",
    "from adaline_classifier import AdalineSGD"
   ]
  },
  {
   "cell_type": "code",
   "execution_count": 11,
   "metadata": {
    "collapsed": true
   },
   "outputs": [],
   "source": [
    "# Preprocess iris data (take only two classes)\n",
    "df = pd.read_csv('https://archive.ics.uci.edu/ml/machine-learning-databases/iris/iris.data', header=None)\n",
    "trainset = df.iloc[:100, [0,2]].values\n",
    "target = df.iloc[:100,4].values\n",
    "target = np.where(target == 'Iris-setosa', -1, 1)"
   ]
  },
  {
   "cell_type": "code",
   "execution_count": 12,
   "metadata": {},
   "outputs": [
    {
     "data": {
      "image/png": "[encoded data removed]",
      "text/plain": [
       "<matplotlib.figure.Figure at 0x7fef749079e8>"
      ]
     },
     "metadata": {},
     "output_type": "display_data"
    }
   ],
   "source": [
    "# Plot iris data\n",
    "plt.scatter(trainset[:50, 0], trainset[:50, 1], color='red')\n",
    "plt.scatter(trainset[50:, 0], trainset[50:, 1], color='blue')\n",
    "plt.show()"
   ]
  },
  {
   "cell_type": "code",
   "execution_count": 35,
   "metadata": {
    "collapsed": true
   },
   "outputs": [],
   "source": [
    "# Standardize dataset\n",
    "std_trainset = np.copy(trainset)\n",
    "std_trainset[:, 0] = (trainset[:, 0] - np.mean(trainset[:, 0])) / np.std(trainset[:, 0])\n",
    "std_trainset[:, 1] = (trainset[:, 1] - np.mean(trainset[:, 1])) / np.std(trainset[:, 1])"
   ]
  },
  {
   "cell_type": "code",
   "execution_count": 36,
   "metadata": {},
   "outputs": [
    {
     "data": {
      "image/png": "[encoded data removed]",
      "text/plain": [
       "<matplotlib.figure.Figure at 0x7fef74675710>"
      ]
     },
     "metadata": {},
     "output_type": "display_data"
    }
   ],
   "source": [
    "# Train model\n",
    "adaline = AdalineSGD(n_iters=15, learning_rate=0.01)\n",
    "adaline.fit(std_trainset, target)\n",
    "plt.plot(range(1, adaline.n_iters+1), adaline.cost_, marker='o')\n",
    "plt.title('AdalineSGD: learning rate = 0.01')\n",
    "plt.xlabel('Epochs'), plt.ylabel('Avg cost')\n",
    "plt.show()"
   ]
  },
  {
   "cell_type": "code",
   "execution_count": 37,
   "metadata": {},
   "outputs": [
    {
     "name": "stdout",
     "output_type": "stream",
     "text": [
      "[-0.00267501 -0.19619775  1.13622436]\n",
      "[-0.0022629  -0.19643722  1.13580633]\n"
     ]
    }
   ],
   "source": [
    "print(adaline.weights_)\n",
    "X = std_trainset[0,:]\n",
    "y = target[0]\n",
    "adaline.partial_fit(X,y)\n",
    "print(adaline.weights_)"
   ]
  },
  {
   "cell_type": "code",
   "execution_count": null,
   "metadata": {
    "collapsed": true
   },
   "outputs": [],
   "source": []
  }
 ],
 "metadata": {
  "kernelspec": {
   "display_name": "Python 3",
   "language": "python",
   "name": "python3"
  },
  "language_info": {
   "codemirror_mode": {
    "name": "ipython",
    "version": 3
   },
   "file_extension": ".py",
   "mimetype": "text/x-python",
   "name": "python",
   "nbconvert_exporter": "python",
   "pygments_lexer": "ipython3",
   "version": "3.6.1"
  }
 },
 "nbformat": 4,
 "nbformat_minor": 2
}
