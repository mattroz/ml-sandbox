{
 "cells": [
  {
   "cell_type": "code",
   "execution_count": 1,
   "metadata": {},
   "outputs": [],
   "source": [
    "import numpy as np\n",
    "from helpers import *\n",
    "import time\n",
    "import numpy as np\n",
    "import h5py\n",
    "import matplotlib.pyplot as plt\n",
    "import scipy\n",
    "from PIL import Image\n",
    "from scipy import ndimage\n",
    "\n",
    "plt.rcParams['figure.figsize'] = (5.0, 4.0) # set default size of plots\n",
    "plt.rcParams['image.interpolation'] = 'nearest'\n",
    "plt.rcParams['image.cmap'] = 'gray'\n",
    "%matplotlib inline\n",
    "%load_ext autoreload\n",
    "%autoreload 2\n",
    "\n",
    "np.random.seed(1)"
   ]
  },
  {
   "cell_type": "code",
   "execution_count": 2,
   "metadata": {
    "collapsed": true
   },
   "outputs": [],
   "source": [
    "def initialize_parameters(layers_size):\n",
    "    \"\"\"\n",
    "    Returns parameters ('W1', 'b1', W2', 'b2', ...)\n",
    "    \"\"\"\n",
    "    \n",
    "    parameters = {}\n",
    "    for l in range(1, len(layers_size)):\n",
    "        parameters['W' + str(l)] = np.random.randn(layers_size[l], layers_size[l-1]) * 0.01\n",
    "        parameters['b' + str(l)] = np.zeros((layers_size[l], 1))\n",
    "    \n",
    "    return parameters"
   ]
  },
  {
   "cell_type": "code",
   "execution_count": 3,
   "metadata": {},
   "outputs": [],
   "source": [
    "def linearize_and_activate_forward_unit(A_previous, W, b, activation_function='relu'):\n",
    "    \"\"\"\n",
    "    Returns A, layer_parameters(W, b, Z, A)\n",
    "    \"\"\"\n",
    "    \n",
    "    Z = np.dot(W, A_previous) + b\n",
    "    if activation_function == 'relu':\n",
    "        A = relu(Z)\n",
    "    elif activation_function == 'sigmoid':\n",
    "        A = sigmoid(Z)\n",
    "    \n",
    "    layer_parameters = {\n",
    "        'W': W,\n",
    "        'b': b,\n",
    "        'Z': Z,\n",
    "        'A': A_previous\n",
    "    }\n",
    "    \n",
    "    return A, layer_parameters"
   ]
  },
  {
   "cell_type": "code",
   "execution_count": 4,
   "metadata": {
    "collapsed": true
   },
   "outputs": [],
   "source": [
    "def deep_forward(X, parameters):\n",
    "    n_of_layers = len(parameters) // 2\n",
    "    A = X\n",
    "    layers_parameters = []\n",
    "    \n",
    "    W = parameters\n",
    "    \n",
    "    for l in range(1, n_of_layers):\n",
    "        W = parameters['W' + str(l)]\n",
    "        b = parameters['b' + str(l)]\n",
    "        A, params = linearize_and_activate_forward_unit(A, W, b, 'relu')\n",
    "        layers_parameters.append(params)\n",
    "    # Last layer\n",
    "    W = parameters['W' + str(n_of_layers)]\n",
    "    b = parameters['b' + str(n_of_layers)]\n",
    "    A_last, params = linearize_and_activate_forward_unit(A, W, b, 'sigmoid')\n",
    "    layers_parameters.append(params)\n",
    "    \n",
    "    return A_last, layers_parameters"
   ]
  },
  {
   "cell_type": "code",
   "execution_count": 5,
   "metadata": {
    "collapsed": true
   },
   "outputs": [],
   "source": [
    "def calculate_cost(Y_hat, Y):\n",
    "    \"\"\"\n",
    "    Returns cost\n",
    "    \"\"\"\n",
    "    m = Y.shape[1]\n",
    "    \n",
    "    log_probs = np.multiply(Y, np.log(Y_hat)) + np.multiply(1 - Y, np.log(1 - Y_hat))\n",
    "    cost = -(1/m) * np.sum(log_probs)\n",
    "    \n",
    "    cost = np.squeeze(cost)\n",
    "    \n",
    "    return cost"
   ]
  },
  {
   "cell_type": "code",
   "execution_count": 6,
   "metadata": {},
   "outputs": [],
   "source": [
    "def propagate_back_activation(dA, Z, activation):\n",
    "    \"\"\"\n",
    "    Returns dZ[L]\n",
    "    \"\"\"\n",
    "    if activation == 'relu':\n",
    "        dZ = np.multiply(dA, relu_derivative(Z))\n",
    "    elif activation == 'sigmoid':\n",
    "        dZ = np.multiply(dA, sigmoid_derivative(Z))\n",
    "    \n",
    "    return dZ"
   ]
  },
  {
   "cell_type": "code",
   "execution_count": 7,
   "metadata": {
    "collapsed": true
   },
   "outputs": [],
   "source": [
    "# Add A_prev, W, b to the cache\n",
    "def propagate_back_linear(layer_parameters, dZ):\n",
    "    \"\"\"\n",
    "    Returns dA, dW, db\n",
    "    \"\"\"\n",
    "    W = layer_parameters['W']\n",
    "    b = layer_parameters['b']\n",
    "    A_previous = layer_parameters['A']\n",
    "    m = A_previous.shape[1]\n",
    "    \n",
    "    dW = (1/m) * np.dot(dZ, A_previous.T)\n",
    "    db = (1/m) * np.sum(dZ, axis=1, keepdims=True)\n",
    "    dA_previous = np.dot(W.T, dZ)\n",
    "    \n",
    "    return dA_previous, dW, db"
   ]
  },
  {
   "cell_type": "code",
   "execution_count": 8,
   "metadata": {
    "collapsed": true
   },
   "outputs": [],
   "source": [
    "def backward_propagation_unit(dA, layer_parameters, activation):\n",
    "    W = layer_parameters['W']\n",
    "    b = layer_parameters['b']\n",
    "    Z = layer_parameters['Z']\n",
    "    A_previous = layer_parameters['A']\n",
    "    dZ = propagate_back_activation(dA, Z, activation)\n",
    "    dA_previous, dW, db = propagate_back_linear(layer_parameters, dZ)\n",
    "    \n",
    "    return dA_previous, dW, db"
   ]
  },
  {
   "cell_type": "code",
   "execution_count": 9,
   "metadata": {},
   "outputs": [],
   "source": [
    "def deep_backward(AL, Y, layers_parameters):\n",
    "    \"\"\"\n",
    "    layer_parameters: W, b, Z, A\n",
    "    \"\"\"\n",
    "    m = Y.shape[1]\n",
    "    layers_number = len(layers_parameters)\n",
    "    Y = Y.reshape(AL.shape)\n",
    "    gradients = {}\n",
    "    \n",
    "    dAL = -(np.divide(Y, AL) - np.divide(1 - Y, 1 - AL))\n",
    "    \n",
    "    gradients['dA' + str(layers_number-1)], \\\n",
    "    gradients['dW' + str(layers_number)], \\\n",
    "    gradients['db' + str(layers_number)] = backward_propagation_unit(dAL, layers_parameters[-1], 'sigmoid')\n",
    "    \n",
    "    for l in reversed(range(layers_number-1)):\n",
    "        current_layer_params = layers_parameters[l]\n",
    "        gradients['dA' + str(l)], \\\n",
    "        gradients['dW' + str(l+1)], \\\n",
    "        gradients['db' + str(l+1)] = backward_propagation_unit(gradients['dA' + str(l+1)], \n",
    "                                                               layers_parameters[l], \n",
    "                                                               'relu') \n",
    "    return gradients"
   ]
  },
  {
   "cell_type": "code",
   "execution_count": 10,
   "metadata": {
    "collapsed": true
   },
   "outputs": [],
   "source": [
    "def update_weights(parameters, gradients, learning_rate):\n",
    "    n_of_layers = len(parameters) // 2\n",
    "    \n",
    "    for l in range(n_of_layers):\n",
    "        parameters['W' + str(l+1)] -= learning_rate * gradients['dW' + str(l+1)]\n",
    "        parameters['b' + str(l+1)] -= learning_rate * gradients['db' + str(l+1)]\n",
    "    \n",
    "    return parameters"
   ]
  },
  {
   "cell_type": "code",
   "execution_count": 11,
   "metadata": {},
   "outputs": [
    {
     "data": {
      "text/plain": [
       "{'W1': array([[ 0.01624345, -0.00611756, -0.00528172, -0.01072969],\n",
       "        [ 0.0086546 , -0.02301539,  0.01744916, -0.00761103],\n",
       "        [ 0.00319039, -0.0024937 ,  0.01462108, -0.02060141],\n",
       "        [-0.00322417, -0.00384054,  0.01133769, -0.01099891]]),\n",
       " 'W2': array([[-0.00172428, -0.00877858,  0.00042214,  0.00582815],\n",
       "        [-0.01100619,  0.01144853,  0.00901591,  0.00502494]]),\n",
       " 'W3': array([[ 0.00900856, -0.00683944]]),\n",
       " 'b1': array([[  0.00000000e+00],\n",
       "        [  5.21785749e-07],\n",
       "        [  0.00000000e+00],\n",
       "        [  0.00000000e+00]]),\n",
       " 'b2': array([[  1.20114127e-04],\n",
       "        [ -4.55819078e-05]]),\n",
       " 'b3': array([[ 0.00666667]])}"
      ]
     },
     "execution_count": 11,
     "metadata": {},
     "output_type": "execute_result"
    }
   ],
   "source": [
    "parameters = initialize_parameters([4,4,2,1])\n",
    "X = np.array([[0,1,0],[1,0,1],[1,2,1],[2,2,1]])\n",
    "Y = np.array([[1,0,1]])\n",
    "A, layers_parameters = deep_forward(X, parameters)\n",
    "gradients = deep_backward(A, Y, layers_parameters)\n",
    "gradients\n",
    "parameters = update_weights(parameters,gradients, 0.04)\n",
    "parameters"
   ]
  },
  {
   "cell_type": "code",
   "execution_count": 12,
   "metadata": {
    "collapsed": true
   },
   "outputs": [],
   "source": [
    "def deep_NN_model(X, Y, layers_size, learning_rate=0.0075, n_iters=3000):\n",
    "    costs = []\n",
    "    parameters = initialize_parameters(layers_size)\n",
    "    \n",
    "    for i in range(n_iters):\n",
    "        A_last, layers_parameters = deep_forward(X, parameters)\n",
    "        cost = calculate_cost(A_last, Y)\n",
    "        gradients = deep_backward(A_last, Y, layers_parameters)\n",
    "        parameters = update_weights(parameters, gradients, learning_rate)\n",
    "        \n",
    "        if i % 100 == 0:\n",
    "            print (\"Cost after iteration %i: %f\" %(i, cost))\n",
    "            costs.append(cost)\n",
    "            \n",
    "    # plot the cost\n",
    "    plt.plot(np.squeeze(costs))\n",
    "    plt.ylabel('cost')\n",
    "    plt.xlabel('iterations (per tens)')\n",
    "    plt.title(\"Learning rate =\" + str(learning_rate))\n",
    "    plt.show()\n",
    "    \n",
    "    return parameters"
   ]
  },
  {
   "cell_type": "code",
   "execution_count": 13,
   "metadata": {},
   "outputs": [],
   "source": [
    "train_x_orig, train_y, test_x_orig, test_y, classes = load_data()"
   ]
  },
  {
   "cell_type": "code",
   "execution_count": 14,
   "metadata": {},
   "outputs": [
    {
     "name": "stdout",
     "output_type": "stream",
     "text": [
      "y = 0. It's a non-cat picture.\n"
     ]
    },
    {
     "data": {
      "image/png": "[encoded data removed]",
      "text/plain": [
       "<matplotlib.figure.Figure at 0x7feb152c2e80>"
      ]
     },
     "metadata": {},
     "output_type": "display_data"
    }
   ],
   "source": [
    "# Example of a picture\n",
    "index = 10\n",
    "plt.imshow(train_x_orig[index])\n",
    "print (\"y = \" + str(train_y[0,index]) + \". It's a \" + classes[train_y[0,index]].decode(\"utf-8\") +  \" picture.\")"
   ]
  },
  {
   "cell_type": "code",
   "execution_count": 15,
   "metadata": {},
   "outputs": [
    {
     "name": "stdout",
     "output_type": "stream",
     "text": [
      "train_x's shape: (12288, 209)\n",
      "test_x's shape: (12288, 50)\n"
     ]
    }
   ],
   "source": [
    "m_train = train_x_orig.shape[0]\n",
    "num_px = train_x_orig.shape[1]\n",
    "m_test = test_x_orig.shape[0]\n",
    "\n",
    "\n",
    "# Reshape the training and test examples \n",
    "train_x_flatten = train_x_orig.reshape(train_x_orig.shape[0], -1).T   # The \"-1\" makes reshape flatten the remaining dimensions\n",
    "test_x_flatten = test_x_orig.reshape(test_x_orig.shape[0], -1).T\n",
    "\n",
    "# Standardize data to have feature values between 0 and 1.\n",
    "train_x = train_x_flatten/255.\n",
    "test_x = test_x_flatten/255.\n",
    "\n",
    "print (\"train_x's shape: \" + str(train_x.shape))\n",
    "print (\"test_x's shape: \" + str(test_x.shape))"
   ]
  },
  {
   "cell_type": "code",
   "execution_count": 16,
   "metadata": {},
   "outputs": [
    {
     "name": "stdout",
     "output_type": "stream",
     "text": [
      "Cost after iteration 0: 0.693147\n",
      "Cost after iteration 100: 0.678009\n",
      "Cost after iteration 200: 0.667597\n",
      "Cost after iteration 300: 0.660419\n",
      "Cost after iteration 400: 0.655455\n",
      "Cost after iteration 500: 0.652011\n",
      "Cost after iteration 600: 0.649614\n",
      "Cost after iteration 700: 0.647940\n",
      "Cost after iteration 800: 0.646768\n",
      "Cost after iteration 900: 0.645946\n",
      "Cost after iteration 1000: 0.645367\n",
      "Cost after iteration 1100: 0.644960\n",
      "Cost after iteration 1200: 0.644672\n",
      "Cost after iteration 1300: 0.644469\n",
      "Cost after iteration 1400: 0.644325\n",
      "Cost after iteration 1500: 0.644223\n",
      "Cost after iteration 1600: 0.644151\n",
      "Cost after iteration 1700: 0.644100\n",
      "Cost after iteration 1800: 0.644063\n",
      "Cost after iteration 1900: 0.644037\n",
      "Cost after iteration 2000: 0.644019\n",
      "Cost after iteration 2100: 0.644006\n",
      "Cost after iteration 2200: 0.643997\n",
      "Cost after iteration 2300: 0.643990\n",
      "Cost after iteration 2400: 0.643985\n"
     ]
    },
    {
     "data": {
      "image/png": "[encoded data removed]",
      "text/plain": [
       "<matplotlib.figure.Figure at 0x7feb152d7b70>"
      ]
     },
     "metadata": {},
     "output_type": "display_data"
    }
   ],
   "source": [
    "layers_size = [12288, 20, 7, 5, 1]\n",
    "parameters = deep_NN_model(train_x, train_y, layers_size, n_iters=2500)"
   ]
  },
  {
   "cell_type": "code",
   "execution_count": 27,
   "metadata": {
    "collapsed": true
   },
   "outputs": [],
   "source": [
    "def predict(X, y, parameters, layers_size):\n",
    "    \"\"\"\n",
    "    This function is used to predict the results of a  L-layer neural network.\n",
    "    \n",
    "    Arguments:\n",
    "    X -- data set of examples you would like to label\n",
    "    parameters -- parameters of the trained model\n",
    "    \n",
    "    Returns:\n",
    "    p -- predictions for the given dataset X\n",
    "    \"\"\"\n",
    "\n",
    "    m = X.shape[1]\n",
    "    n = len(parameters) // 2 # number of layers in the neural network\n",
    "    p = np.zeros((1,m))\n",
    "\n",
    "    # Forward propagation\n",
    "    probas = deep_NN_model(X, y, layers_size)\n",
    "\n",
    "\n",
    "    # convert probas to 0/1 predictions\n",
    "    for i in range(0, probas.shape[1]):\n",
    "        if probas[0,i] > 0.5:\n",
    "            p[0,i] = 1\n",
    "        else:\n",
    "            p[0,i] = 0\n",
    "\n",
    "    #print results\n",
    "    #print (\"predictions: \" + str(p))\n",
    "    #print (\"true labels: \" + str(y))\n",
    "    print(\"Accuracy: \"  + str(np.sum((p == y)/m)))\n",
    "\n",
    "    return p\n"
   ]
  },
  {
   "cell_type": "code",
   "execution_count": 28,
   "metadata": {},
   "outputs": [
    {
     "name": "stdout",
     "output_type": "stream",
     "text": [
      "Cost after iteration 0: 0.693147\n",
      "Cost after iteration 100: 0.678009\n",
      "Cost after iteration 200: 0.667598\n",
      "Cost after iteration 300: 0.660420\n",
      "Cost after iteration 400: 0.655456\n",
      "Cost after iteration 500: 0.652012\n",
      "Cost after iteration 600: 0.649614\n",
      "Cost after iteration 700: 0.647940\n",
      "Cost after iteration 800: 0.646769\n",
      "Cost after iteration 900: 0.645946\n",
      "Cost after iteration 1000: 0.645368\n",
      "Cost after iteration 1100: 0.644960\n",
      "Cost after iteration 1200: 0.644672\n",
      "Cost after iteration 1300: 0.644469\n",
      "Cost after iteration 1400: 0.644325\n",
      "Cost after iteration 1500: 0.644223\n",
      "Cost after iteration 1600: 0.644151\n",
      "Cost after iteration 1700: 0.644100\n",
      "Cost after iteration 1800: 0.644063\n",
      "Cost after iteration 1900: 0.644037\n",
      "Cost after iteration 2000: 0.644019\n",
      "Cost after iteration 2100: 0.644006\n",
      "Cost after iteration 2200: 0.643997\n",
      "Cost after iteration 2300: 0.643990\n",
      "Cost after iteration 2400: 0.643985\n",
      "Cost after iteration 2500: 0.643982\n",
      "Cost after iteration 2600: 0.643980\n",
      "Cost after iteration 2700: 0.643978\n",
      "Cost after iteration 2800: 0.643977\n",
      "Cost after iteration 2900: 0.643976\n"
     ]
    },
    {
     "data": {
      "image/png": "[encoded data removed]",
      "text/plain": [
       "<matplotlib.figure.Figure at 0x7feb152c6cf8>"
      ]
     },
     "metadata": {},
     "output_type": "display_data"
    },
    {
     "ename": "AttributeError",
     "evalue": "'dict' object has no attribute 'shape'",
     "output_type": "error",
     "traceback": [
      "\u001b[0;31m---------------------------------------------------------------------------\u001b[0m",
      "\u001b[0;31mAttributeError\u001b[0m                            Traceback (most recent call last)",
      "\u001b[0;32m<ipython-input-28-3f0070083b6f>\u001b[0m in \u001b[0;36m<module>\u001b[0;34m()\u001b[0m\n\u001b[0;32m----> 1\u001b[0;31m \u001b[0mpredictions_train\u001b[0m \u001b[0;34m=\u001b[0m \u001b[0mpredict\u001b[0m\u001b[0;34m(\u001b[0m\u001b[0mtrain_x\u001b[0m\u001b[0;34m,\u001b[0m \u001b[0mtrain_y\u001b[0m\u001b[0;34m,\u001b[0m \u001b[0mparameters\u001b[0m\u001b[0;34m,\u001b[0m \u001b[0mlayers_size\u001b[0m\u001b[0;34m)\u001b[0m\u001b[0;34m\u001b[0m\u001b[0m\n\u001b[0m",
      "\u001b[0;32m<ipython-input-27-578185046e61>\u001b[0m in \u001b[0;36mpredict\u001b[0;34m(X, y, parameters, layers_size)\u001b[0m\n\u001b[1;32m     20\u001b[0m \u001b[0;34m\u001b[0m\u001b[0m\n\u001b[1;32m     21\u001b[0m     \u001b[0;31m# convert probas to 0/1 predictions\u001b[0m\u001b[0;34m\u001b[0m\u001b[0;34m\u001b[0m\u001b[0m\n\u001b[0;32m---> 22\u001b[0;31m     \u001b[0;32mfor\u001b[0m \u001b[0mi\u001b[0m \u001b[0;32min\u001b[0m \u001b[0mrange\u001b[0m\u001b[0;34m(\u001b[0m\u001b[0;36m0\u001b[0m\u001b[0;34m,\u001b[0m \u001b[0mprobas\u001b[0m\u001b[0;34m.\u001b[0m\u001b[0mshape\u001b[0m\u001b[0;34m[\u001b[0m\u001b[0;36m1\u001b[0m\u001b[0;34m]\u001b[0m\u001b[0;34m)\u001b[0m\u001b[0;34m:\u001b[0m\u001b[0;34m\u001b[0m\u001b[0m\n\u001b[0m\u001b[1;32m     23\u001b[0m         \u001b[0;32mif\u001b[0m \u001b[0mprobas\u001b[0m\u001b[0;34m[\u001b[0m\u001b[0;36m0\u001b[0m\u001b[0;34m,\u001b[0m\u001b[0mi\u001b[0m\u001b[0;34m]\u001b[0m \u001b[0;34m>\u001b[0m \u001b[0;36m0.5\u001b[0m\u001b[0;34m:\u001b[0m\u001b[0;34m\u001b[0m\u001b[0m\n\u001b[1;32m     24\u001b[0m             \u001b[0mp\u001b[0m\u001b[0;34m[\u001b[0m\u001b[0;36m0\u001b[0m\u001b[0;34m,\u001b[0m\u001b[0mi\u001b[0m\u001b[0;34m]\u001b[0m \u001b[0;34m=\u001b[0m \u001b[0;36m1\u001b[0m\u001b[0;34m\u001b[0m\u001b[0m\n",
      "\u001b[0;31mAttributeError\u001b[0m: 'dict' object has no attribute 'shape'"
     ]
    }
   ],
   "source": [
    "predictions_train = predict(train_x, train_y, parameters, layers_size)"
   ]
  },
  {
   "cell_type": "code",
   "execution_count": null,
   "metadata": {
    "collapsed": true
   },
   "outputs": [],
   "source": []
  }
 ],
 "metadata": {
  "kernelspec": {
   "display_name": "Python 3",
   "language": "python",
   "name": "python3"
  },
  "language_info": {
   "codemirror_mode": {
    "name": "ipython",
    "version": 3
   },
   "file_extension": ".py",
   "mimetype": "text/x-python",
   "name": "python",
   "nbconvert_exporter": "python",
   "pygments_lexer": "ipython3",
   "version": "3.6.1"
  }
 },
 "nbformat": 4,
 "nbformat_minor": 2
}
