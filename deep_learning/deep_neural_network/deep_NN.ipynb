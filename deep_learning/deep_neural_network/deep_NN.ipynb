{
 "cells": [
  {
   "cell_type": "code",
   "execution_count": 19,
   "metadata": {},
   "outputs": [],
   "source": [
    "import numpy as np\n",
    "from helpers import *"
   ]
  },
  {
   "cell_type": "code",
   "execution_count": 21,
   "metadata": {
    "collapsed": true
   },
   "outputs": [],
   "source": [
    "def initialize_parameters(layers_size):\n",
    "    \"\"\"\n",
    "    Returns parameters ('W1', 'b1', W2', 'b2', ...)\n",
    "    \"\"\"\n",
    "    \n",
    "    parameters = {}\n",
    "    for l in range(1, len(layers_size)):\n",
    "        parameters['W' + str(l)] = np.random.randn(layers_size[l], layers_size[l-1]) * 0.01\n",
    "        parameters['b' + str(l)] = np.zeros((layers_size[l], 1))\n",
    "    \n",
    "    return parameters"
   ]
  },
  {
   "cell_type": "code",
   "execution_count": 22,
   "metadata": {},
   "outputs": [],
   "source": [
    "def linearize_and_activate_forward(A_previous, W, b, activation_function='relu'):\n",
    "    \"\"\"\n",
    "    Returns A\n",
    "    \"\"\"\n",
    "    \n",
    "    Z = np.dot(W, A_previous) + b\n",
    "    \n",
    "    if activation == 'relu':\n",
    "        A = relu(Z)\n",
    "    elif activation == 'sigmoid':\n",
    "        A = sigmoid(Z)\n",
    "    \n",
    "    return A"
   ]
  },
  {
   "cell_type": "code",
   "execution_count": null,
   "metadata": {
    "collapsed": true
   },
   "outputs": [],
   "source": [
    "def calculate_cost(Y_hat, Y):\n",
    "    \"\"\"\n",
    "    \"\"\"\n",
    "    \n",
    "    \n",
    "    log_probs = np.dot(Y, np.log(Y_hat)) + np.dot(1 - Y, np.log(1 - Y_hat))\n",
    "    cost = -"
   ]
  }
 ],
 "metadata": {
  "kernelspec": {
   "display_name": "Python 3",
   "language": "python",
   "name": "python3"
  },
  "language_info": {
   "codemirror_mode": {
    "name": "ipython",
    "version": 3
   },
   "file_extension": ".py",
   "mimetype": "text/x-python",
   "name": "python",
   "nbconvert_exporter": "python",
   "pygments_lexer": "ipython3",
   "version": "3.6.1"
  }
 },
 "nbformat": 4,
 "nbformat_minor": 2
}
