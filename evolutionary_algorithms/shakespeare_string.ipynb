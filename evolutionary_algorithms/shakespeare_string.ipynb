{
 "cells": [
  {
   "cell_type": "code",
   "execution_count": 1,
   "metadata": {
    "collapsed": true
   },
   "outputs": [],
   "source": [
    "# Genetic algorithm for transforming random string to the fragment from Shakespeare's poem.\n",
    "# String should be the same length"
   ]
  },
  {
   "cell_type": "code",
   "execution_count": 46,
   "metadata": {
    "collapsed": true
   },
   "outputs": [],
   "source": [
    "import numpy as np\n",
    "from math import inf"
   ]
  },
  {
   "cell_type": "code",
   "execution_count": 9,
   "metadata": {
    "collapsed": true
   },
   "outputs": [],
   "source": [
    "''' \n",
    "Kind of fitness function for this GA,\n",
    "returns number of matching chars at current position.\n",
    "It is obvious, that if this function returns 0, \n",
    "it means that str1 == str2\n",
    "'''\n",
    "def fitness(str1, str2):\n",
    "    difference = 0\n",
    "    for i in range(len(str1)):\n",
    "        if str1[i] != str2[i]:\n",
    "            difference += 1\n",
    "    return difference"
   ]
  },
  {
   "cell_type": "code",
   "execution_count": 19,
   "metadata": {},
   "outputs": [],
   "source": [
    "'''\n",
    "Generate initial population\n",
    "'''\n",
    "def generate_random_string(length):\n",
    "    return ''.join(random.choice(string.ascii_lowercase + ' ') for _ in range(length))"
   ]
  },
  {
   "cell_type": "code",
   "execution_count": 47,
   "metadata": {},
   "outputs": [],
   "source": [
    "'''\n",
    "Selection operator: takes whole population and returns n sentences,\n",
    "(where n - population size) which are matching the most with the Shakespeare's string. \n",
    "'''\n",
    "def selection(population, reference_sample, population_size=5):\n",
    "    assert population.size >= population_size, \"Population size is less than default population size!\"\n",
    "    new_population = []\n",
    "    fitness_values = []\n",
    "    # Calculate fitness value for each sample\n",
    "    for sample in population:\n",
    "        fitness_values.append(fitness(sample, reference_sample))\n",
    "    # Seach [population_size] best samples from the whole generation\n",
    "    for _ in range(population_size):\n",
    "        best_sample_idx = np.argmin(fitness_values)\n",
    "        new_population.append(population[best_sample_idx])\n",
    "        fitness_values[best_sample_idx] = inf\n",
    "    return"
   ]
  },
  {
   "cell_type": "code",
   "execution_count": 48,
   "metadata": {},
   "outputs": [],
   "source": [
    "pop = np.array([\n",
    "    \"   ing\",\n",
    "    \"strimg\",\n",
    "    \"streeg\",\n",
    "    \"steerf\",\n",
    "    \"grootI\",\n",
    "    \"kekeke\",\n",
    "    \"s  i g\",\n",
    "    \"str in\",\n",
    "    \"string\",\n",
    "    \"str ng\"\n",
    "])\n",
    "ref = \"string\"\n",
    "selection(pop, ref)"
   ]
  },
  {
   "cell_type": "code",
   "execution_count": 16,
   "metadata": {},
   "outputs": [],
   "source": [
    "def mutation(sentence, p=0.06):\n",
    "    pass"
   ]
  },
  {
   "cell_type": "code",
   "execution_count": null,
   "metadata": {
    "collapsed": true
   },
   "outputs": [],
   "source": []
  }
 ],
 "metadata": {
  "kernelspec": {
   "display_name": "Python 3",
   "language": "python",
   "name": "python3"
  },
  "language_info": {
   "codemirror_mode": {
    "name": "ipython",
    "version": 3
   },
   "file_extension": ".py",
   "mimetype": "text/x-python",
   "name": "python",
   "nbconvert_exporter": "python",
   "pygments_lexer": "ipython3",
   "version": "3.6.1"
  }
 },
 "nbformat": 4,
 "nbformat_minor": 2
}
