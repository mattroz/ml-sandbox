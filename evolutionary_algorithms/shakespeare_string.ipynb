{
 "cells": [
  {
   "cell_type": "code",
   "execution_count": 1,
   "metadata": {
    "collapsed": true
   },
   "outputs": [],
   "source": [
    "# Genetic algorithm for transforming random string to the fragment from Shakespeare's poem.\n",
    "# String should be the same length"
   ]
  },
  {
   "cell_type": "code",
   "execution_count": 1,
   "metadata": {
    "collapsed": true
   },
   "outputs": [],
   "source": [
    "import random\n",
    "import string\n",
    "import numpy as np\n",
    "from math import inf\n",
    "import matplotlib.pyplot as plt"
   ]
  },
  {
   "cell_type": "code",
   "execution_count": 2,
   "metadata": {
    "collapsed": true
   },
   "outputs": [],
   "source": [
    "''' \n",
    "Kind of fitness function for this GA,\n",
    "returns number of matching chars at current position.\n",
    "It is obvious, that if this function returns 0, \n",
    "it means that str1 == str2\n",
    "'''\n",
    "def fitness(str1, str2):\n",
    "    difference = 0\n",
    "    for i in range(len(str1)):\n",
    "        if str1[i] != str2[i]:\n",
    "            difference += 1\n",
    "    return difference"
   ]
  },
  {
   "cell_type": "code",
   "execution_count": 3,
   "metadata": {
    "collapsed": true
   },
   "outputs": [],
   "source": [
    "'''\n",
    "Generate initial population\n",
    "'''\n",
    "def generate_random_string(length):\n",
    "    return ''.join(random.choice(string.ascii_lowercase + ' ') for _ in range(length))"
   ]
  },
  {
   "cell_type": "code",
   "execution_count": 4,
   "metadata": {
    "collapsed": true
   },
   "outputs": [],
   "source": [
    "'''\n",
    "Selection operator: takes whole population and returns n sentences,\n",
    "(where n - population size) which are matching the most with the Shakespeare's string. \n",
    "'''\n",
    "def selection(population, reference_sample, population_size=5):\n",
    "    assert population.size >= population_size, \"Population size is less than default population size!\"\n",
    "    new_population = []\n",
    "    fitness_values = []\n",
    "    errors_in_population = 0\n",
    "    # Calculate fitness value for each sample\n",
    "    for sample in population:\n",
    "        fitness_values.append(fitness(sample, reference_sample))\n",
    "    # Seach [population_size] best samples from the whole generation\n",
    "    #print(fitness_values)\n",
    "    for _ in range(population_size):\n",
    "        best_sample_idx = np.argmin(fitness_values)\n",
    "        new_population.append(population[best_sample_idx])\n",
    "        errors_in_population += fitness_values[best_sample_idx]\n",
    "        fitness_values[best_sample_idx] = inf\n",
    "    return np.array(new_population), errors_in_population "
   ]
  },
  {
   "cell_type": "code",
   "execution_count": 5,
   "metadata": {
    "collapsed": true
   },
   "outputs": [],
   "source": [
    "'''\n",
    "Mutation operator: takes whole population and apllies mutations\n",
    "with [p] probability [mutations_number] times for one parent.\n",
    "Each mutation of parental string is an offspring.\n",
    "Therefore this operator returns generation of \n",
    "size = population.size * mutations_number. This population\n",
    "will be reduced in selection operator.\n",
    "'''\n",
    "def mutation(population, mutations_number=5, p=1):\n",
    "    offspring_population = []\n",
    "    for parent in population:\n",
    "        for _ in range(mutations_number):\n",
    "            # Roll the dice if this offspring will be mutated\n",
    "            offspring = parent\n",
    "            dice = np.random.uniform()\n",
    "            if dice <= p:\n",
    "                # If so, choose the position in this string to change\n",
    "                pos = random.randint(0, len(offspring)-1)\n",
    "                mutated_gene = random.choice(string.ascii_lowercase + ' ')\n",
    "                offspring = offspring[:pos] + mutated_gene + offspring[pos+1:]\n",
    "            offspring_population.append(offspring)\n",
    "    return np.array(offspring_population)"
   ]
  },
  {
   "cell_type": "code",
   "execution_count": 9,
   "metadata": {},
   "outputs": [
    {
     "name": "stdout",
     "output_type": "stream",
     "text": [
      "Initial string:  ['jeoxdtbpvh pvbphvnktayy' 'vvdifq hfxruoruqjslkzk '\n",
      " 'lc  ryadc bgmdtn khnesl' 'bcydsj eunacuriuusltzpc'\n",
      " 'gzstfhfsqmqpkrdxzzriizy']\n",
      "\n",
      "Evolved in ['genetic algorithm works' 'genetic algorithm works'\n",
      " 'genetic algorithm works' 'genetic llgorithm works'\n",
      " 'genetic llgorithm works'] through 26 generations\n"
     ]
    }
   ],
   "source": [
    "# EVOLUTION !!1\n",
    "generation_counter = 0\n",
    "errors = []\n",
    "ref = \"genetic algorithm works\"\n",
    "pop_size = 5\n",
    "survivors = np.array([generate_random_string(len(ref)) for _ in range(pop_size)])\n",
    "print(\"Initial string: \", survivors)\n",
    "error = inf\n",
    "while ref not in survivors:\n",
    "    population = mutation(survivors, mutations_number=100)\n",
    "    generation_counter += 1\n",
    "    survivors, error = selection(population, ref, population_size=pop_size)\n",
    "    errors.append(error)\n",
    "print(\"\\nEvolved in {0} through {1} generations\".format(survivors, generation_counter))"
   ]
  },
  {
   "cell_type": "code",
   "execution_count": 10,
   "metadata": {},
   "outputs": [
    {
     "data": {
      "image/png": "[encoded data removed]",
      "text/plain": [
       "<matplotlib.figure.Figure at 0x7f5c399014e0>"
      ]
     },
     "metadata": {},
     "output_type": "display_data"
    }
   ],
   "source": [
    "plt.plot(range(generation_counter), errors)\n",
    "plt.ylabel('Errors in population')\n",
    "plt.xlabel('Generation number')\n",
    "plt.show()"
   ]
  },
  {
   "cell_type": "code",
   "execution_count": null,
   "metadata": {
    "collapsed": true
   },
   "outputs": [],
   "source": []
  }
 ],
 "metadata": {
  "kernelspec": {
   "display_name": "Python 3",
   "language": "python",
   "name": "python3"
  },
  "language_info": {
   "codemirror_mode": {
    "name": "ipython",
    "version": 3
   },
   "file_extension": ".py",
   "mimetype": "text/x-python",
   "name": "python",
   "nbconvert_exporter": "python",
   "pygments_lexer": "ipython3",
   "version": "3.6.1"
  }
 },
 "nbformat": 4,
 "nbformat_minor": 2
}
