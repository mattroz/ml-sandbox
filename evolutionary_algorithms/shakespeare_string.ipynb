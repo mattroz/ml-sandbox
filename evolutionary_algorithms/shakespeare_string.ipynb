{
 "cells": [
  {
   "cell_type": "code",
   "execution_count": 1,
   "metadata": {
    "collapsed": true
   },
   "outputs": [],
   "source": [
    "# Genetic algorithm for transforming random string to the fragment from Shakespeare's poem.\n",
    "# String should be the same length"
   ]
  },
  {
   "cell_type": "code",
   "execution_count": 64,
   "metadata": {
    "collapsed": true
   },
   "outputs": [],
   "source": [
    "import random\n",
    "import string\n",
    "import numpy as np\n",
    "from math import inf"
   ]
  },
  {
   "cell_type": "code",
   "execution_count": 59,
   "metadata": {
    "collapsed": true
   },
   "outputs": [],
   "source": [
    "''' \n",
    "Kind of fitness function for this GA,\n",
    "returns number of matching chars at current position.\n",
    "It is obvious, that if this function returns 0, \n",
    "it means that str1 == str2\n",
    "'''\n",
    "def fitness(str1, str2):\n",
    "    difference = 0\n",
    "    for i in range(len(str1)):\n",
    "        if str1[i] != str2[i]:\n",
    "            difference += 1\n",
    "    return difference"
   ]
  },
  {
   "cell_type": "code",
   "execution_count": 60,
   "metadata": {},
   "outputs": [],
   "source": [
    "'''\n",
    "Generate initial population\n",
    "'''\n",
    "def generate_random_string(length):\n",
    "    return ''.join(random.choice(string.ascii_lowercase + ' ') for _ in range(length))"
   ]
  },
  {
   "cell_type": "code",
   "execution_count": 61,
   "metadata": {},
   "outputs": [],
   "source": [
    "'''\n",
    "Selection operator: takes whole population and returns n sentences,\n",
    "(where n - population size) which are matching the most with the Shakespeare's string. \n",
    "'''\n",
    "def selection(population, reference_sample, population_size=5):\n",
    "    assert population.size >= population_size, \"Population size is less than default population size!\"\n",
    "    new_population = []\n",
    "    fitness_values = []\n",
    "    # Calculate fitness value for each sample\n",
    "    for sample in population:\n",
    "        fitness_values.append(fitness(sample, reference_sample))\n",
    "    # Seach [population_size] best samples from the whole generation\n",
    "    print(fitness_values)\n",
    "    for _ in range(population_size):\n",
    "        best_sample_idx = np.argmin(fitness_values)\n",
    "        new_population.append(population[best_sample_idx])\n",
    "        fitness_values[best_sample_idx] = inf\n",
    "    return np.array(new_population)"
   ]
  },
  {
   "cell_type": "code",
   "execution_count": 78,
   "metadata": {},
   "outputs": [],
   "source": [
    "'''\n",
    "Mutation operator: takes whole population and apllies mutations\n",
    "with [p] probability [mutations_number] times for one parent.\n",
    "Each mutation of parental string is an offspring.\n",
    "Therefore this operator returns generation of \n",
    "size = population.size * mutations_number. This population\n",
    "will be reduced in selection operator.\n",
    "'''\n",
    "def mutation(population, mutations_number=5, p=1):\n",
    "    offspring_population = []\n",
    "    for parent in population:\n",
    "        for _ in range(mutations_number):\n",
    "            # Roll the dice if this offspring will be mutated\n",
    "            offspring = parent\n",
    "            dice = np.random.uniform()\n",
    "            if dice <= p:\n",
    "                # If so, choose the position in this string to change\n",
    "                pos = random.randint(0, len(offspring)-1)\n",
    "                mutated_gene = random.choice(string.ascii_lowercase + ' ')\n",
    "                offspring = offspring[:pos] + mutated_gene + offspring[pos+1:]\n",
    "            offspring_population.append(offspring)\n",
    "    return np.array(offspring_population)"
   ]
  },
  {
   "cell_type": "code",
   "execution_count": 84,
   "metadata": {},
   "outputs": [
    {
     "name": "stdout",
     "output_type": "stream",
     "text": [
      "[5, 7, 7, 7, 7]\n",
      "[5, 5, 5, 6, 5, 7, 7, 7, 7, 7, 7, 7, 7, 7, 7, 7, 7, 7, 7, 7, 7, 7, 7, 7, 6]\n",
      "[5, 6, 6, 5, 5, 5, 5, 5, 5, 6, 5, 6, 5, 6, 6, 6, 5, 5, 5, 6, 6, 6, 6, 6, 6]\n",
      "[5, 5, 5, 5, 5, 6, 5, 6, 5, 5, 6, 5, 5, 6, 5, 5, 5, 6, 5, 6, 5, 5, 5, 5, 5]\n",
      "[5, 5, 5, 5, 4, 5, 5, 5, 6, 5, 5, 5, 5, 6, 5, 6, 6, 6, 6, 5, 6, 5, 5, 5, 5]\n",
      "[4, 4, 4, 5, 4, 5, 5, 6, 5, 5, 6, 5, 5, 5, 6, 6, 5, 6, 6, 4, 6, 5, 6, 5, 4]\n",
      "[5, 4, 3, 5, 4, 4, 4, 4, 4, 4, 5, 5, 5, 5, 5, 4, 4, 4, 5, 4, 4, 4, 5, 4, 5]\n",
      "[3, 4, 4, 4, 4, 5, 5, 4, 4, 5, 5, 4, 4, 5, 4, 4, 5, 4, 4, 4, 4, 4, 4, 5, 4]\n",
      "[3, 3, 4, 4, 4, 4, 5, 4, 3, 4, 4, 5, 5, 4, 5, 4, 4, 4, 5, 5, 5, 4, 5, 4, 4]\n",
      "[3, 4, 4, 4, 4, 4, 3, 4, 4, 3, 3, 3, 3, 4, 3, 5, 4, 4, 4, 5, 3, 4, 5, 4, 4]\n",
      "[3, 4, 4, 4, 4, 4, 3, 4, 4, 4, 4, 4, 4, 4, 3, 3, 4, 4, 4, 3, 3, 4, 3, 4, 4]\n",
      "[4, 4, 4, 3, 3, 4, 4, 3, 4, 4, 4, 3, 4, 3, 4, 4, 3, 3, 4, 3, 3, 3, 3, 4, 4]\n",
      "[3, 3, 3, 4, 4, 4, 3, 4, 3, 4, 4, 3, 3, 3, 3, 3, 4, 3, 4, 4, 4, 3, 3, 3, 4]\n",
      "[3, 4, 4, 3, 3, 3, 4, 4, 4, 4, 3, 4, 4, 4, 3, 3, 3, 2, 3, 4, 3, 3, 4, 4, 3]\n",
      "[2, 3, 3, 3, 3, 3, 3, 3, 3, 4, 3, 2, 3, 3, 3, 4, 3, 3, 4, 3, 4, 3, 4, 3, 4]\n",
      "[2, 3, 2, 3, 2, 3, 2, 2, 2, 3, 4, 4, 3, 4, 4, 3, 3, 4, 4, 2, 3, 4, 4, 3, 4]\n",
      "[3, 3, 3, 3, 2, 3, 3, 3, 3, 3, 3, 3, 2, 3, 3, 3, 3, 3, 3, 3, 3, 3, 3, 2, 2]\n",
      "[3, 3, 3, 3, 2, 3, 3, 3, 3, 3, 2, 2, 3, 3, 2, 3, 3, 3, 3, 3, 4, 3, 4, 4, 4]\n",
      "[2, 3, 3, 2, 3, 3, 3, 3, 3, 3, 2, 2, 3, 2, 3, 3, 3, 3, 2, 3, 3, 4, 3, 3, 3]\n",
      "[3, 2, 2, 2, 2, 3, 3, 2, 2, 3, 3, 3, 3, 3, 3, 2, 3, 3, 3, 3, 3, 3, 2, 2, 2]\n",
      "[3, 2, 3, 3, 2, 3, 3, 2, 2, 3, 2, 3, 2, 2, 3, 3, 3, 2, 3, 3, 2, 3, 3, 3, 3]\n",
      "[3, 3, 3, 3, 3, 3, 3, 3, 3, 3, 3, 3, 3, 3, 3, 3, 3, 3, 3, 3, 2, 3, 3, 3, 3]\n",
      "[3, 2, 2, 3, 2, 4, 4, 4, 4, 4, 3, 4, 3, 3, 4, 3, 3, 4, 3, 4, 3, 4, 4, 4, 3]\n",
      "[3, 3, 2, 2, 2, 2, 3, 2, 3, 3, 3, 3, 2, 3, 3, 3, 4, 3, 3, 3, 3, 4, 3, 3, 4]\n",
      "[3, 3, 2, 2, 3, 2, 2, 3, 3, 3, 3, 3, 2, 3, 3, 3, 3, 2, 3, 3, 3, 3, 3, 3, 2]\n",
      "[3, 2, 3, 2, 3, 3, 2, 2, 3, 2, 3, 2, 3, 2, 3, 3, 2, 2, 3, 3, 2, 3, 3, 3, 3]\n",
      "[3, 3, 3, 3, 3, 3, 3, 2, 3, 2, 3, 2, 3, 3, 3, 2, 3, 3, 3, 3, 3, 3, 3, 2, 3]\n",
      "[2, 3, 3, 2, 3, 2, 2, 1, 3, 3, 3, 3, 1, 2, 2, 3, 2, 3, 3, 3, 3, 3, 3, 3, 2]\n",
      "[1, 2, 1, 2, 2, 2, 1, 2, 2, 2, 3, 3, 3, 3, 3, 3, 3, 2, 3, 2, 3, 3, 3, 2, 3]\n",
      "[2, 2, 2, 2, 2, 2, 2, 2, 2, 2, 2, 2, 1, 1, 1, 2, 3, 3, 3, 2, 2, 2, 3, 3, 3]\n",
      "[2, 2, 2, 2, 2, 2, 2, 2, 1, 2, 2, 2, 1, 2, 2, 2, 3, 3, 3, 3, 3, 3, 2, 3, 3]\n",
      "[2, 1, 2, 1, 2, 2, 1, 2, 2, 1, 3, 2, 3, 2, 3, 3, 3, 3, 2, 3, 3, 3, 3, 2, 2]\n",
      "[2, 2, 2, 2, 2, 2, 2, 2, 2, 1, 2, 1, 2, 1, 2, 2, 2, 2, 2, 2, 3, 3, 3, 3, 2]\n",
      "[2, 2, 2, 2, 2, 2, 2, 2, 2, 2, 2, 2, 2, 2, 2, 3, 3, 3, 3, 3, 3, 3, 3, 2, 2]\n",
      "[2, 3, 2, 3, 2, 2, 3, 2, 2, 3, 3, 3, 3, 2, 3, 2, 3, 3, 2, 2, 3, 3, 3, 3, 3]\n",
      "[2, 3, 3, 1, 1, 3, 3, 3, 2, 3, 2, 3, 2, 2, 3, 3, 3, 2, 3, 3, 3, 3, 2, 3, 3]\n",
      "[2, 2, 2, 2, 2, 2, 2, 1, 2, 2, 3, 2, 3, 3, 3, 3, 3, 3, 2, 2, 2, 3, 3, 3, 3]\n",
      "[2, 2, 2, 2, 2, 3, 2, 3, 3, 2, 3, 3, 3, 3, 3, 2, 3, 2, 3, 3, 3, 3, 3, 3, 2]\n",
      "[2, 3, 2, 2, 1, 3, 3, 3, 3, 3, 3, 2, 2, 3, 3, 2, 3, 2, 3, 3, 3, 3, 3, 2, 3]\n",
      "[2, 1, 2, 2, 2, 3, 3, 3, 3, 2, 3, 3, 3, 3, 2, 3, 3, 3, 3, 2, 3, 3, 2, 3, 2]\n",
      "[1, 2, 2, 2, 2, 2, 3, 2, 2, 3, 3, 3, 3, 3, 2, 1, 3, 2, 1, 3, 3, 2, 2, 3, 3]\n",
      "[2, 2, 1, 2, 2, 2, 2, 1, 2, 2, 2, 2, 2, 2, 2, 3, 2, 3, 3, 3, 2, 3, 3, 2, 3]\n",
      "[2, 2, 2, 2, 1, 1, 2, 1, 2, 2, 3, 3, 3, 2, 1, 2, 3, 2, 3, 3, 3, 3, 2, 3, 3]\n",
      "[2, 1, 2, 2, 2, 1, 1, 2, 2, 2, 2, 2, 1, 1, 2, 2, 2, 2, 2, 2, 3, 3, 3, 2, 3]\n",
      "[2, 1, 2, 1, 2, 1, 2, 2, 2, 2, 2, 2, 2, 2, 2, 1, 2, 1, 1, 2, 1, 2, 2, 2, 1]\n",
      "[2, 2, 2, 2, 2, 2, 2, 2, 1, 2, 2, 2, 1, 2, 1, 1, 2, 1, 2, 1, 2, 2, 2, 1, 2]\n",
      "[1, 2, 1, 2, 2, 2, 2, 1, 2, 2, 1, 2, 2, 2, 2, 2, 2, 1, 1, 2, 2, 2, 2, 2, 2]\n",
      "[1, 2, 2, 2, 1, 1, 2, 2, 2, 2, 2, 2, 2, 1, 2, 1, 1, 2, 2, 2, 2, 1, 2, 2, 1]\n",
      "[2, 2, 2, 2, 2, 1, 2, 2, 2, 2, 2, 1, 1, 2, 2, 2, 2, 2, 2, 2, 1, 1, 2, 2, 2]\n",
      "[2, 2, 2, 1, 2, 2, 2, 1, 2, 2, 1, 2, 1, 1, 2, 2, 2, 1, 2, 2, 2, 2, 2, 1, 1]\n"
     ]
    }
   ],
   "source": [
    "generation_counter = 0\n",
    "ref = \"matthew\"\n",
    "pop_size = 5\n",
    "population = np.array([generate_random_string(len(ref)) for _ in range(pop_size)])\n",
    "while ref not in population:\n",
    "    survivors = selection(population, ref, population_size=pop_size)\n",
    "    population = mutation(survivors)\n",
    "    generation_counter += 1"
   ]
  },
  {
   "cell_type": "code",
   "execution_count": 85,
   "metadata": {},
   "outputs": [
    {
     "data": {
      "text/plain": [
       "array(['matdrew', 'matdheh', 'matdeew', 'matdeew', 'metdhew', 'matchvw',\n",
       "       'matcxew', 'matahew', 'mabchew', 'matchew', 'matmhew', 'matuhen',\n",
       "       'matthew', 'matuheu', ' atuhew', 'oatahew', 'matahez', 'mntahew',\n",
       "       'matahex', 'matqhew', 'matwhew', 'mstahew', 'matahem', 'mktahew',\n",
       "       'matahev'], \n",
       "      dtype='<U7')"
      ]
     },
     "execution_count": 85,
     "metadata": {},
     "output_type": "execute_result"
    }
   ],
   "source": [
    "population"
   ]
  },
  {
   "cell_type": "code",
   "execution_count": null,
   "metadata": {
    "collapsed": true
   },
   "outputs": [],
   "source": []
  }
 ],
 "metadata": {
  "kernelspec": {
   "display_name": "Python 3",
   "language": "python",
   "name": "python3"
  },
  "language_info": {
   "codemirror_mode": {
    "name": "ipython",
    "version": 3
   },
   "file_extension": ".py",
   "mimetype": "text/x-python",
   "name": "python",
   "nbconvert_exporter": "python",
   "pygments_lexer": "ipython3",
   "version": "3.6.1"
  }
 },
 "nbformat": 4,
 "nbformat_minor": 2
}
