{
 "cells": [
  {
   "cell_type": "code",
   "execution_count": 82,
   "metadata": {
    "collapsed": true
   },
   "outputs": [],
   "source": [
    "# Simple genetic algorithm example using Goldberg's monography\n",
    "# \"Genetic Algorithms in Search, Optimization and Machine Learning\"\n",
    "import numpy as np\n",
    "import matplotlib.pyplot as plt\n",
    "import math"
   ]
  },
  {
   "cell_type": "code",
   "execution_count": 40,
   "metadata": {
    "collapsed": true
   },
   "outputs": [],
   "source": [
    "# Fitness function for optimization\n",
    "def fitness(_x):\n",
    "    return _x**2"
   ]
  },
  {
   "cell_type": "code",
   "execution_count": 73,
   "metadata": {},
   "outputs": [],
   "source": [
    "# Generate first population\n",
    "def generate_population(X, population_size=5):\n",
    "    new_population = []\n",
    "    for chromosome in np.random.randint(low=1, high=X[-1], size=population_size):\n",
    "        new_population.append([chromosome, bin(chromosome)[2:].zfill(6), fitness(chromosome)])\n",
    "    return new_population"
   ]
  },
  {
   "cell_type": "code",
   "execution_count": 126,
   "metadata": {
    "collapsed": true
   },
   "outputs": [],
   "source": [
    "def reproduction(population):\n",
    "    # Calculate sum of function values\n",
    "    _sum = 0\n",
    "    for chromosome in population:\n",
    "        _sum += chromosome[2]\n",
    "    # Calculate number of copies of each chromosome in the next generation\n",
    "    # based on its fitness and power of population\n",
    "    copies_number = []\n",
    "    for chromosome in population:\n",
    "        probability = chromosome[2] / _sum\n",
    "        copies_number.append(int(round(probability * len(population))))\n",
    "    print(copies_number)\n",
    "    # Fill new generation with copies\n",
    "    new_generation = []\n",
    "    for i in range(len(population)):\n",
    "        for j in range(copies_number[i]):\n",
    "            new_generation.append(population[i])\n",
    "    return new_generation"
   ]
  },
  {
   "cell_type": "code",
   "execution_count": 49,
   "metadata": {},
   "outputs": [],
   "source": [
    "def selection(X):\n",
    "    pass"
   ]
  },
  {
   "cell_type": "code",
   "execution_count": 52,
   "metadata": {
    "collapsed": true
   },
   "outputs": [],
   "source": [
    "def crossover(X):\n",
    "    pass"
   ]
  },
  {
   "cell_type": "code",
   "execution_count": 53,
   "metadata": {
    "collapsed": true
   },
   "outputs": [],
   "source": [
    "def mutation():\n",
    "    pass"
   ]
  },
  {
   "cell_type": "code",
   "execution_count": 55,
   "metadata": {},
   "outputs": [],
   "source": [
    "# The task is to find x that will maximize fitness function Y = x^2, \n",
    "# i.e. ans = argmax(x, Y = x^2)\n",
    "X = np.array(list(range(50)))"
   ]
  },
  {
   "cell_type": "code",
   "execution_count": 118,
   "metadata": {},
   "outputs": [
    {
     "data": {
      "text/plain": [
       "[[14, '001110', 196],\n",
       " [44, '101100', 1936],\n",
       " [18, '010010', 324],\n",
       " [4, '000100', 16],\n",
       " [24, '011000', 576]]"
      ]
     },
     "execution_count": 118,
     "metadata": {},
     "output_type": "execute_result"
    }
   ],
   "source": [
    "# Generate population of 5 chromosomes\n",
    "population_size = 6\n",
    "population = generate_population(X)\n",
    "population\n",
    "#population = [[13, '', 169],[24, '', 576],[8, '', 64],[19, '10011', 361]]"
   ]
  },
  {
   "cell_type": "code",
   "execution_count": 127,
   "metadata": {},
   "outputs": [
    {
     "name": "stdout",
     "output_type": "stream",
     "text": [
      "[0, 3, 1, 0, 1]\n"
     ]
    },
    {
     "data": {
      "text/plain": [
       "[[44, '101100', 1936],\n",
       " [44, '101100', 1936],\n",
       " [44, '101100', 1936],\n",
       " [18, '010010', 324],\n",
       " [24, '011000', 576]]"
      ]
     },
     "execution_count": 127,
     "metadata": {},
     "output_type": "execute_result"
    }
   ],
   "source": [
    "reproduction(population)"
   ]
  },
  {
   "cell_type": "code",
   "execution_count": null,
   "metadata": {
    "collapsed": true
   },
   "outputs": [],
   "source": []
  }
 ],
 "metadata": {
  "kernelspec": {
   "display_name": "Python 3",
   "language": "python",
   "name": "python3"
  },
  "language_info": {
   "codemirror_mode": {
    "name": "ipython",
    "version": 3
   },
   "file_extension": ".py",
   "mimetype": "text/x-python",
   "name": "python",
   "nbconvert_exporter": "python",
   "pygments_lexer": "ipython3",
   "version": "3.6.1"
  }
 },
 "nbformat": 4,
 "nbformat_minor": 2
}
