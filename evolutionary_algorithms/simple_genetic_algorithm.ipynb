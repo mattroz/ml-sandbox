{
 "cells": [
  {
   "cell_type": "code",
   "execution_count": 587,
   "metadata": {
    "collapsed": true
   },
   "outputs": [],
   "source": [
    "# Simple genetic algorithm example using Goldberg's monography\n",
    "# \"Genetic Algorithms in Search, Optimization and Machine Learning\"\n",
    "import numpy as np\n",
    "import matplotlib.pyplot as plt\n",
    "import math"
   ]
  },
  {
   "cell_type": "code",
   "execution_count": 588,
   "metadata": {
    "collapsed": true
   },
   "outputs": [],
   "source": [
    "# Fitness function for optimization\n",
    "def fitness(_x):\n",
    "    return _x**2"
   ]
  },
  {
   "cell_type": "code",
   "execution_count": 589,
   "metadata": {
    "collapsed": true
   },
   "outputs": [],
   "source": [
    "# Generate first population\n",
    "def generate_population(X, population_power=4):\n",
    "    new_population = []\n",
    "    for chromosome in np.random.randint(low=1, high=X[-1], size=population_power):\n",
    "        new_population.append([chromosome, fitness(chromosome)])\n",
    "    return np.array(new_population)"
   ]
  },
  {
   "cell_type": "code",
   "execution_count": 590,
   "metadata": {
    "collapsed": true
   },
   "outputs": [],
   "source": [
    "def cross(chrome1, chrome2, k):\n",
    "    new_chrome1 = chrome1[:k] + chrome2[k:]\n",
    "    new_chrome2 = chrome2[:k] + chrome1[k:]\n",
    "    return new_chrome1, new_chrome2"
   ]
  },
  {
   "cell_type": "code",
   "execution_count": 591,
   "metadata": {
    "collapsed": true
   },
   "outputs": [],
   "source": [
    "def invert(binary_in_str, k):\n",
    "    inverted_gene = '1' if binary_in_str[k] == '0' else '0'\n",
    "    return (binary_in_str[:k] + inverted_gene + binary_in_str[k+1:])"
   ]
  },
  {
   "cell_type": "code",
   "execution_count": 592,
   "metadata": {
    "collapsed": true
   },
   "outputs": [],
   "source": [
    "def reproduction(population, debug=True):\n",
    "    # Calculate sum of function values\n",
    "    _sum = sum(population[:,1])\n",
    "    # Calculate number of copies of each chromosome in the next generation\n",
    "    # based on its fitness and power of population\n",
    "    copies_number = []\n",
    "    probabilities = []\n",
    "    for chromosome in population:\n",
    "        probability = chromosome[1] / _sum\n",
    "        probabilities.append(probability)\n",
    "        copies_number.append(int(round(probability * len(population))))\n",
    "    # Fill new generation with copies\n",
    "    new_generation = []\n",
    "    for i in range(len(population)):\n",
    "        for j in range(copies_number[i]):\n",
    "            new_generation.append(population[i])\n",
    "    if debug is True:\n",
    "        print(\"------REPRODUCTION-------\")\n",
    "        print(\"Copies: \", copies_number)\n",
    "        print(\"Portions: \", [\"%.1f%%\" % (prob*100) for prob in probabilities])\n",
    "    return np.array(new_generation)"
   ]
  },
  {
   "cell_type": "code",
   "execution_count": 593,
   "metadata": {
    "collapsed": true
   },
   "outputs": [],
   "source": [
    "def crossover(population, debug=True):\n",
    "    # Form pairs for chromosomes:\n",
    "    # number j on i-th index of 'pairs' list means\n",
    "    # that i-th chromosome will crossover with j-th chromosome\n",
    "    # in population given\n",
    "    pairs = np.random.randint(1, len(population), len(population)//2)\n",
    "    offsprings = []\n",
    "    # Get each chromosome in binary (i.e. get gene form of each chromosome)\n",
    "    parents = np.array([bin(chrome)[2:].zfill(6) for chrome in population[:,0]])\n",
    "    genes_num = len(parents[0])\n",
    "    if debug is True:\n",
    "        print(\"--------CROSSOVER--------\")\n",
    "        print(\"Population: \", parents)\n",
    "        print(\"Chromosomes' pairs: \")\n",
    "        for i, p in zip(range(len(parents)), pairs):\n",
    "            print(\"chrome[%d] x chrome[%d]\" % (i, p))\n",
    "    # Crossover\n",
    "    for i in range(len(pairs)):\n",
    "        # Generate crossover point k, k = [0, chromosome's len]\n",
    "        crosspoint = int(np.random.randint(0, genes_num-1, 1))\n",
    "        offspr_1, offspr_2 = cross(parents[i], parents[pairs[i]], k=crosspoint)\n",
    "        offsprings.append(offspr_1)\n",
    "        offsprings.append(offspr_2)\n",
    "        if debug is True:\n",
    "            print(\"%s crossover %s = %s(%d), %s(%d), k=%d\" % (parents[i], parents[pairs[i]], \n",
    "                                                            offspr_1, int(offspr_1, 2), \n",
    "                                                            offspr_2, int(offspr_2, 2),\n",
    "                                                            crosspoint))\n",
    "    #return (np.array([int(offspr, 2) for offspr in offsprings]))\n",
    "    return (offsprings)"
   ]
  },
  {
   "cell_type": "code",
   "execution_count": 594,
   "metadata": {
    "collapsed": true
   },
   "outputs": [],
   "source": [
    "def mutation(offsprings, mutation_probability=0.3, debug=True):\n",
    "    # \"Roll a dice\" for every offspring to determine\n",
    "    # if mutation will be applied to it\n",
    "    probabilities = [float(\"%.2f\"%(np.random.rand())) for offspring in offsprings]\n",
    "    new_population = []\n",
    "    mutation_counter = 0\n",
    "    for offspring, probability in zip(offsprings, probabilities):\n",
    "        # If generated probability <= real mutation prob,\n",
    "        # generate gene index to invert and then invert it\n",
    "        if probability <= mutation_probability:\n",
    "            mutation_counter += 1\n",
    "            k = int(np.random.randint(0, len(offspring), 1))\n",
    "            offspring = invert(offspring, k)\n",
    "        new_population.append(offspring)\n",
    "    if debug is True:\n",
    "        print(\"--------MUTATION--------\")\n",
    "        print(probabilities)\n",
    "        print(\"Mutations in generation: \", mutation_counter)\n",
    "    \n",
    "    return np.array(new_population)"
   ]
  },
  {
   "cell_type": "code",
   "execution_count": 595,
   "metadata": {},
   "outputs": [
    {
     "name": "stdout",
     "output_type": "stream",
     "text": [
      "2401\n"
     ]
    }
   ],
   "source": [
    "# The task is to find x that will maximize fitness function Y = x^2, \n",
    "# i.e. ans = argmax(x, Y = x^2)\n",
    "X = np.array(list(range(50)))\n",
    "print(fitness(X[-1]))"
   ]
  },
  {
   "cell_type": "code",
   "execution_count": 636,
   "metadata": {},
   "outputs": [
    {
     "name": "stdout",
     "output_type": "stream",
     "text": [
      "[[  37 1369]\n",
      " [  35 1225]\n",
      " [   4   16]\n",
      " [  17  289]]\n",
      "Max fitness in 0 generation: x = 37, fit = 1369\n"
     ]
    }
   ],
   "source": [
    "# Generate population of 6 chromosomes\n",
    "# and initial settings\n",
    "size = 4\n",
    "new_population = generate_population(X, population_power=size)\n",
    "max_in_population = 0\n",
    "generation_counter = 0\n",
    "print(new_population)\n",
    "max_in_population = new_population[:,1].max()\n",
    "max_idx = np.argmax(new_population[:,1])\n",
    "print(\"Max fitness in %d generation: x = %d, fit = %d\" % (generation_counter, \n",
    "                                                          new_population[max_idx][0],\n",
    "                                                          new_population[max_idx][1]))"
   ]
  },
  {
   "cell_type": "code",
   "execution_count": 637,
   "metadata": {},
   "outputs": [
    {
     "name": "stdout",
     "output_type": "stream",
     "text": [
      "--------CROSSOVER--------\n",
      "Population:  ['100101' '100011' '000100' '010001']\n",
      "Chromosomes' pairs: \n",
      "chrome[0] x chrome[3]\n",
      "chrome[1] x chrome[2]\n",
      "100101 crossover 010001 = 110001(49), 000101(5), k=1\n",
      "100011 crossover 000100 = 100100(36), 000011(3), k=1\n",
      "['110001', '000101', '100100', '000011']\n",
      "--------MUTATION--------\n",
      "[0.03, 0.4, 0.45, 0.1]\n",
      "Mutations in generation:  2\n",
      "[[    33   1089 100001]\n",
      " [     5     25    101]\n",
      " [    36   1296 100100]\n",
      " [     1      1      1]]\n",
      "Max fitness in 1 generation: x = 36, fit = 1296\n",
      "--------CROSSOVER--------\n",
      "Population:  ['100001' '000101' '100100' '000001']\n",
      "Chromosomes' pairs: \n",
      "chrome[0] x chrome[1]\n",
      "chrome[1] x chrome[3]\n",
      "100001 crossover 000101 = 100101(37), 000001(1), k=2\n",
      "000101 crossover 000001 = 000001(1), 000101(5), k=1\n",
      "['100101', '000001', '000001', '000101']\n",
      "--------MUTATION--------\n",
      "[0.62, 0.42, 0.82, 0.36]\n",
      "Mutations in generation:  0\n",
      "[[    37   1369 100101]\n",
      " [     1      1      1]\n",
      " [     1      1      1]\n",
      " [     5     25    101]]\n",
      "Max fitness in 2 generation: x = 37, fit = 1369\n",
      "--------CROSSOVER--------\n",
      "Population:  ['100101' '000001' '000001' '000101']\n",
      "Chromosomes' pairs: \n",
      "chrome[0] x chrome[3]\n",
      "chrome[1] x chrome[3]\n",
      "100101 crossover 000101 = 100101(37), 000101(5), k=2\n",
      "000001 crossover 000101 = 000101(5), 000001(1), k=3\n",
      "['100101', '000101', '000101', '000001']\n",
      "--------MUTATION--------\n",
      "[0.55, 0.62, 0.58, 0.07]\n",
      "Mutations in generation:  1\n",
      "[[    37   1369 100101]\n",
      " [     5     25    101]\n",
      " [     5     25    101]\n",
      " [    33   1089 100001]]\n",
      "Max fitness in 3 generation: x = 37, fit = 1369\n",
      "--------CROSSOVER--------\n",
      "Population:  ['100101' '000101' '000101' '100001']\n",
      "Chromosomes' pairs: \n",
      "chrome[0] x chrome[3]\n",
      "chrome[1] x chrome[2]\n",
      "100101 crossover 100001 = 100101(37), 100001(33), k=4\n",
      "000101 crossover 000101 = 000101(5), 000101(5), k=3\n",
      "['100101', '100001', '000101', '000101']\n",
      "--------MUTATION--------\n",
      "[0.95, 0.84, 0.64, 0.27]\n",
      "Mutations in generation:  1\n",
      "[[    37   1369 100101]\n",
      " [    33   1089 100001]\n",
      " [     5     25    101]\n",
      " [     7     49    111]]\n",
      "Max fitness in 4 generation: x = 37, fit = 1369\n",
      "--------CROSSOVER--------\n",
      "Population:  ['100101' '100001' '000101' '000111']\n",
      "Chromosomes' pairs: \n",
      "chrome[0] x chrome[1]\n",
      "chrome[1] x chrome[3]\n",
      "100101 crossover 100001 = 100001(33), 100101(37), k=1\n",
      "100001 crossover 000111 = 100111(39), 000001(1), k=1\n",
      "['100001', '100101', '100111', '000001']\n",
      "--------MUTATION--------\n",
      "[0.29, 0.81, 0.65, 0.09]\n",
      "Mutations in generation:  2\n",
      "[[    49   2401 110001]\n",
      " [    37   1369 100101]\n",
      " [    39   1521 100111]\n",
      " [     5     25    101]]\n",
      "Max fitness in 5 generation: x = 49, fit = 2401\n"
     ]
    }
   ],
   "source": [
    "fitness_progress = [max_in_population]\n",
    "while(max_in_population < fitness(X[-1])):\n",
    "#for _ in range(3):\n",
    "    new_population = crossover(new_population, debug=True)\n",
    "    print(new_population)\n",
    "    mutated_generation = mutation(new_population, debug=True)\n",
    "    mutated_generation = np.array([[int(chromosome, 2), fitness(int(chromosome, 2)), int(chromosome)]\n",
    "                                   for chromosome in mutated_generation])\n",
    "    print(mutated_generation)\n",
    "    new_population = mutated_generation\n",
    "    generation_counter += 1\n",
    "    \n",
    "    max_in_population = new_population[:,1].max()\n",
    "    max_idx = np.argmax(new_population[:,1])\n",
    "    print(\"Max fitness in %d generation: x = %d, fit = %d\" % (generation_counter, \n",
    "                                                              new_population[max_idx][0], \n",
    "                                                              new_population[max_idx][1]))\n",
    "    fitness_progress.append(max_in_population)"
   ]
  },
  {
   "cell_type": "code",
   "execution_count": 638,
   "metadata": {},
   "outputs": [
    {
     "name": "stdout",
     "output_type": "stream",
     "text": [
      "5\n",
      "[1369, 1296, 1369, 1369, 1369, 2401]\n"
     ]
    },
    {
     "data": {
      "image/png": "[encoded data removed]",
      "text/plain": [
       "<matplotlib.figure.Figure at 0x7fa9904e67b8>"
      ]
     },
     "metadata": {},
     "output_type": "display_data"
    }
   ],
   "source": [
    "print(generation_counter)\n",
    "print(fitness_progress)\n",
    "plt.plot(range(generation_counter+1), fitness_progress, color='red', marker='o')\n",
    "plt.plot(range(generation_counter+1), [fitness(X[-1]) for i in range(generation_counter+1)], \n",
    "         '--', color='blue')\n",
    "plt.show()"
   ]
  },
  {
   "cell_type": "code",
   "execution_count": null,
   "metadata": {
    "collapsed": true
   },
   "outputs": [],
   "source": []
  }
 ],
 "metadata": {
  "kernelspec": {
   "display_name": "Python 3",
   "language": "python",
   "name": "python3"
  },
  "language_info": {
   "codemirror_mode": {
    "name": "ipython",
    "version": 3
   },
   "file_extension": ".py",
   "mimetype": "text/x-python",
   "name": "python",
   "nbconvert_exporter": "python",
   "pygments_lexer": "ipython3",
   "version": "3.6.1"
  }
 },
 "nbformat": 4,
 "nbformat_minor": 2
}
