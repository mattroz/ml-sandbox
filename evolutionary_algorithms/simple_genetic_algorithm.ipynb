{
 "cells": [
  {
   "cell_type": "code",
   "execution_count": 587,
   "metadata": {
    "collapsed": true
   },
   "outputs": [],
   "source": [
    "# Simple genetic algorithm example using Goldberg's monography\n",
    "# \"Genetic Algorithms in Search, Optimization and Machine Learning\"\n",
    "import numpy as np\n",
    "import matplotlib.pyplot as plt\n",
    "import math"
   ]
  },
  {
   "cell_type": "code",
   "execution_count": 588,
   "metadata": {
    "collapsed": true
   },
   "outputs": [],
   "source": [
    "# Fitness function for optimization\n",
    "def fitness(_x):\n",
    "    return _x**2"
   ]
  },
  {
   "cell_type": "code",
   "execution_count": 589,
   "metadata": {
    "collapsed": true
   },
   "outputs": [],
   "source": [
    "# Generate first population\n",
    "def generate_population(X, population_power=4):\n",
    "    new_population = []\n",
    "    for chromosome in np.random.randint(low=1, high=X[-1], size=population_power):\n",
    "        new_population.append([chromosome, fitness(chromosome)])\n",
    "    return np.array(new_population)"
   ]
  },
  {
   "cell_type": "code",
   "execution_count": 590,
   "metadata": {
    "collapsed": true
   },
   "outputs": [],
   "source": [
    "def cross(chrome1, chrome2, k):\n",
    "    new_chrome1 = chrome1[:k] + chrome2[k:]\n",
    "    new_chrome2 = chrome2[:k] + chrome1[k:]\n",
    "    return new_chrome1, new_chrome2"
   ]
  },
  {
   "cell_type": "code",
   "execution_count": 591,
   "metadata": {
    "collapsed": true
   },
   "outputs": [],
   "source": [
    "def invert(binary_in_str, k):\n",
    "    inverted_gene = '1' if binary_in_str[k] == '0' else '0'\n",
    "    return (binary_in_str[:k] + inverted_gene + binary_in_str[k+1:])"
   ]
  },
  {
   "cell_type": "code",
   "execution_count": 592,
   "metadata": {
    "collapsed": true
   },
   "outputs": [],
   "source": [
    "def reproduction(population, debug=True):\n",
    "    # Calculate sum of function values\n",
    "    _sum = sum(population[:,1])\n",
    "    # Calculate number of copies of each chromosome in the next generation\n",
    "    # based on its fitness and power of population\n",
    "    copies_number = []\n",
    "    probabilities = []\n",
    "    for chromosome in population:\n",
    "        probability = chromosome[1] / _sum\n",
    "        probabilities.append(probability)\n",
    "        copies_number.append(int(round(probability * len(population))))\n",
    "    # Fill new generation with copies\n",
    "    new_generation = []\n",
    "    for i in range(len(population)):\n",
    "        for j in range(copies_number[i]):\n",
    "            new_generation.append(population[i])\n",
    "    if debug is True:\n",
    "        print(\"------REPRODUCTION-------\")\n",
    "        print(\"Copies: \", copies_number)\n",
    "        print(\"Portions: \", [\"%.1f%%\" % (prob*100) for prob in probabilities])\n",
    "    return np.array(new_generation)"
   ]
  },
  {
   "cell_type": "code",
   "execution_count": 593,
   "metadata": {
    "collapsed": true
   },
   "outputs": [],
   "source": [
    "def crossover(population, debug=True):\n",
    "    # Form pairs for chromosomes:\n",
    "    # number j on i-th index of 'pairs' list means\n",
    "    # that i-th chromosome will crossover with j-th chromosome\n",
    "    # in population given\n",
    "    pairs = np.random.randint(1, len(population), len(population)//2)\n",
    "    offsprings = []\n",
    "    # Get each chromosome in binary (i.e. get gene form of each chromosome)\n",
    "    parents = np.array([bin(chrome)[2:].zfill(6) for chrome in population[:,0]])\n",
    "    genes_num = len(parents[0])\n",
    "    if debug is True:\n",
    "        print(\"--------CROSSOVER--------\")\n",
    "        print(\"Population: \", parents)\n",
    "        print(\"Chromosomes' pairs: \")\n",
    "        for i, p in zip(range(len(parents)), pairs):\n",
    "            print(\"chrome[%d] x chrome[%d]\" % (i, p))\n",
    "    # Crossover\n",
    "    for i in range(len(pairs)):\n",
    "        # Generate crossover point k, k = [0, chromosome's len]\n",
    "        crosspoint = int(np.random.randint(0, genes_num-1, 1))\n",
    "        offspr_1, offspr_2 = cross(parents[i], parents[pairs[i]], k=crosspoint)\n",
    "        offsprings.append(offspr_1)\n",
    "        offsprings.append(offspr_2)\n",
    "        if debug is True:\n",
    "            print(\"%s crossover %s = %s(%d), %s(%d), k=%d\" % (parents[i], parents[pairs[i]], \n",
    "                                                            offspr_1, int(offspr_1, 2), \n",
    "                                                            offspr_2, int(offspr_2, 2),\n",
    "                                                            crosspoint))\n",
    "    #return (np.array([int(offspr, 2) for offspr in offsprings]))\n",
    "    return (offsprings)"
   ]
  },
  {
   "cell_type": "code",
   "execution_count": 594,
   "metadata": {
    "collapsed": true
   },
   "outputs": [],
   "source": [
    "def mutation(offsprings, mutation_probability=0.3, debug=True):\n",
    "    # \"Roll a dice\" for every offspring to determine\n",
    "    # if mutation will be applied to it\n",
    "    probabilities = [float(\"%.2f\"%(np.random.rand())) for offspring in offsprings]\n",
    "    new_population = []\n",
    "    mutation_counter = 0\n",
    "    for offspring, probability in zip(offsprings, probabilities):\n",
    "        # If generated probability <= real mutation prob,\n",
    "        # generate gene index to invert and then invert it\n",
    "        if probability <= mutation_probability:\n",
    "            mutation_counter += 1\n",
    "            k = int(np.random.randint(0, len(offspring), 1))\n",
    "            offspring = invert(offspring, k)\n",
    "        new_population.append(offspring)\n",
    "    if debug is True:\n",
    "        print(\"--------MUTATION--------\")\n",
    "        print(probabilities)\n",
    "        print(\"Mutations in generation: \", mutation_counter)\n",
    "    \n",
    "    return np.array(new_population)"
   ]
  },
  {
   "cell_type": "code",
   "execution_count": 595,
   "metadata": {},
   "outputs": [
    {
     "name": "stdout",
     "output_type": "stream",
     "text": [
      "2401\n"
     ]
    }
   ],
   "source": [
    "# The task is to find x that will maximize fitness function Y = x^2, \n",
    "# i.e. ans = argmax(x, Y = x^2)\n",
    "X = np.array(list(range(50)))\n",
    "print(fitness(X[-1]))"
   ]
  },
  {
   "cell_type": "code",
   "execution_count": null,
   "metadata": {
    "scrolled": true
   },
   "outputs": [],
   "source": []
  },
  {
   "cell_type": "code",
   "execution_count": 643,
   "metadata": {},
   "outputs": [
    {
     "name": "stdout",
     "output_type": "stream",
     "text": [
      "[[  45 2025]\n",
      " [  36 1296]\n",
      " [  31  961]\n",
      " [  11  121]]\n",
      "Max fitness in 0 generation: x = 45, fit = 2025\n",
      "\n",
      "\n",
      "\n",
      "\n",
      "--------CROSSOVER--------\n",
      "Population:  ['101101' '100100' '011111' '001011']\n",
      "Chromosomes' pairs: \n",
      "chrome[0] x chrome[2]\n",
      "chrome[1] x chrome[3]\n",
      "101101 crossover 011111 = 101111(47), 011101(29), k=4\n",
      "100100 crossover 001011 = 001011(11), 100100(36), k=0\n",
      "['101111', '011101', '001011', '100100']\n",
      "--------MUTATION--------\n",
      "[0.85, 0.94, 0.34, 0.67]\n",
      "Mutations in generation:  0\n",
      "[[    47   2209 101111]\n",
      " [    29    841  11101]\n",
      " [    11    121   1011]\n",
      " [    36   1296 100100]]\n",
      "Max fitness in 1 generation: x = 47, fit = 2209\n",
      "\n",
      "\n",
      "\n",
      "\n",
      "--------CROSSOVER--------\n",
      "Population:  ['101111' '011101' '001011' '100100']\n",
      "Chromosomes' pairs: \n",
      "chrome[0] x chrome[3]\n",
      "chrome[1] x chrome[3]\n",
      "101111 crossover 100100 = 100100(36), 101111(47), k=2\n",
      "011101 crossover 100100 = 100100(36), 011101(29), k=0\n",
      "['100100', '101111', '100100', '011101']\n",
      "--------MUTATION--------\n",
      "[0.97, 0.05, 0.67, 0.68]\n",
      "Mutations in generation:  1\n",
      "[[    36   1296 100100]\n",
      " [    15    225   1111]\n",
      " [    36   1296 100100]\n",
      " [    29    841  11101]]\n",
      "Max fitness in 2 generation: x = 36, fit = 1296\n",
      "\n",
      "\n",
      "\n",
      "\n",
      "--------CROSSOVER--------\n",
      "Population:  ['100100' '001111' '100100' '011101']\n",
      "Chromosomes' pairs: \n",
      "chrome[0] x chrome[3]\n",
      "chrome[1] x chrome[2]\n",
      "100100 crossover 011101 = 111101(61), 000100(4), k=1\n",
      "001111 crossover 100100 = 001100(12), 100111(39), k=4\n",
      "['111101', '000100', '001100', '100111']\n",
      "--------MUTATION--------\n",
      "[0.37, 0.35, 0.09, 0.99]\n",
      "Mutations in generation:  1\n",
      "[[    61   3721 111101]\n",
      " [     4     16    100]\n",
      " [    13    169   1101]\n",
      " [    39   1521 100111]]\n",
      "Max fitness in 3 generation: x = 61, fit = 3721\n"
     ]
    }
   ],
   "source": [
    "# Generate population of 6 chromosomes\n",
    "# and initial settings\n",
    "size = 4\n",
    "new_population = generate_population(X, population_power=size)\n",
    "max_in_population = 0\n",
    "generation_counter = 0\n",
    "print(new_population)\n",
    "max_in_population = new_population[:,1].max()\n",
    "max_idx = np.argmax(new_population[:,1])\n",
    "print(\"Max fitness in %d generation: x = %d, fit = %d\" % (generation_counter, \n",
    "                                                          new_population[max_idx][0],\n",
    "                                                          new_population[max_idx][1]))\n",
    "\n",
    "fitness_progress = [max_in_population]\n",
    "while(max_in_population < fitness(X[-1])):\n",
    "#for _ in range(3):\n",
    "    print(\"\\n\\n\\n\")\n",
    "    new_population = crossover(new_population, debug=True)\n",
    "    print(new_population)\n",
    "    mutated_generation = mutation(new_population, debug=True)\n",
    "    mutated_generation = np.array([[int(chromosome, 2), fitness(int(chromosome, 2)), int(chromosome)]\n",
    "                                   for chromosome in mutated_generation])\n",
    "    print(mutated_generation)\n",
    "    new_population = mutated_generation\n",
    "    generation_counter += 1\n",
    "    \n",
    "    max_in_population = new_population[:,1].max()\n",
    "    max_idx = np.argmax(new_population[:,1])\n",
    "    print(\"Max fitness in %d generation: x = %d, fit = %d\" % (generation_counter, \n",
    "                                                              new_population[max_idx][0], \n",
    "                                                              new_population[max_idx][1]))\n",
    "    fitness_progress.append(max_in_population)"
   ]
  },
  {
   "cell_type": "code",
   "execution_count": 644,
   "metadata": {},
   "outputs": [
    {
     "name": "stdout",
     "output_type": "stream",
     "text": [
      "3\n",
      "[2025, 2209, 1296, 3721]\n"
     ]
    },
    {
     "data": {
      "image/png": "[encoded data removed]",
      "text/plain": [
       "<matplotlib.figure.Figure at 0x7fa9901b1b38>"
      ]
     },
     "metadata": {},
     "output_type": "display_data"
    }
   ],
   "source": [
    "print(generation_counter)\n",
    "print(fitness_progress)\n",
    "plt.plot(range(generation_counter+1), fitness_progress, color='red', marker='o')\n",
    "plt.plot(range(generation_counter+1), [fitness(X[-1]) for i in range(generation_counter+1)], \n",
    "         '--', color='blue')\n",
    "plt.show()"
   ]
  },
  {
   "cell_type": "code",
   "execution_count": null,
   "metadata": {
    "collapsed": true
   },
   "outputs": [],
   "source": []
  }
 ],
 "metadata": {
  "kernelspec": {
   "display_name": "Python 3",
   "language": "python",
   "name": "python3"
  },
  "language_info": {
   "codemirror_mode": {
    "name": "ipython",
    "version": 3
   },
   "file_extension": ".py",
   "mimetype": "text/x-python",
   "name": "python",
   "nbconvert_exporter": "python",
   "pygments_lexer": "ipython3",
   "version": "3.6.1"
  }
 },
 "nbformat": 4,
 "nbformat_minor": 2
}
