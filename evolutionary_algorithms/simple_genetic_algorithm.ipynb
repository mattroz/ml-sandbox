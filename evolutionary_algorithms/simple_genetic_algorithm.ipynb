{
 "cells": [
  {
   "cell_type": "code",
   "execution_count": 82,
   "metadata": {
    "collapsed": true
   },
   "outputs": [],
   "source": [
    "# Simple genetic algorithm example using Goldberg's monography\n",
    "# \"Genetic Algorithms in Search, Optimization and Machine Learning\"\n",
    "import numpy as np\n",
    "import matplotlib.pyplot as plt\n",
    "import math"
   ]
  },
  {
   "cell_type": "code",
   "execution_count": 40,
   "metadata": {
    "collapsed": true
   },
   "outputs": [],
   "source": [
    "# Fitness function for optimization\n",
    "def fitness(_x):\n",
    "    return _x**2"
   ]
  },
  {
   "cell_type": "code",
   "execution_count": 265,
   "metadata": {},
   "outputs": [],
   "source": [
    "# Generate first population\n",
    "def generate_population(X, population_power=4):\n",
    "    new_population = []\n",
    "    for chromosome in np.random.randint(low=1, high=X[-1], size=population_power):\n",
    "        new_population.append([chromosome, fitness(chromosome)])\n",
    "    return np.array(new_population)"
   ]
  },
  {
   "cell_type": "code",
   "execution_count": 281,
   "metadata": {
    "collapsed": true
   },
   "outputs": [],
   "source": [
    "def cross(chrome1, chrome2, k):\n",
    "    new_chrome1 = chrome1[:k] + chrome2[k:]\n",
    "    new_chrome2 = chrome2[:k] + chrome1[k:]\n",
    "    return new_chrome1, new_chrome2"
   ]
  },
  {
   "cell_type": "code",
   "execution_count": 395,
   "metadata": {
    "collapsed": true
   },
   "outputs": [],
   "source": [
    "def invert(binary_in_str, k):\n",
    "    inverted_gene = '1' if binary_in_str[k] == '0' else '0'\n",
    "    return (binary_in_str[:k] + inverted_gene + binary_in_str[k+1:])"
   ]
  },
  {
   "cell_type": "code",
   "execution_count": 371,
   "metadata": {},
   "outputs": [],
   "source": [
    "def reproduction(population, debug=True):\n",
    "    # Calculate sum of function values\n",
    "    _sum = sum(population[:,1])\n",
    "    # Calculate number of copies of each chromosome in the next generation\n",
    "    # based on its fitness and power of population\n",
    "    copies_number = []\n",
    "    probabilities = []\n",
    "    for chromosome in population:\n",
    "        probability = chromosome[1] / _sum\n",
    "        probabilities.append(probability)\n",
    "        copies_number.append(int(round(probability * len(population))))\n",
    "    # Fill new generation with copies\n",
    "    new_generation = []\n",
    "    for i in range(len(population)):\n",
    "        for j in range(copies_number[i]):\n",
    "            new_generation.append(population[i])\n",
    "    if debug is True:\n",
    "        print(\"Copies: \", copies_number)\n",
    "        print(\"Portions: \", [\"%.1f%%\" % (prob*100) for prob in probabilities])\n",
    "    \n",
    "    return np.array(new_generation)"
   ]
  },
  {
   "cell_type": "code",
   "execution_count": 399,
   "metadata": {},
   "outputs": [],
   "source": [
    "def crossover(population, debug=True):\n",
    "    # Form pairs for chromosomes:\n",
    "    # number j on i-th index of 'pairs' list means\n",
    "    # that i-th chromosome will crossover with j-th chromosome\n",
    "    # in population given\n",
    "    pairs = np.random.randint(1, len(population), len(population)//2)\n",
    "    offsprings = []\n",
    "    # Get each chromosome in binary (i.e. get gene form of each chromosome)\n",
    "    parents = np.array([bin(chrome)[2:].zfill(6) for chrome in population[:,0]])\n",
    "    genes_num = len(parents[0])\n",
    "    if debug is True:\n",
    "        print(\"Population: \", parents)\n",
    "        print(\"Chromosomes' pairs: \")\n",
    "        for i, p in zip(range(len(parents)), pairs):\n",
    "            print(\"chrome[%d] x chrome[%d]\" % (i, p))\n",
    "    # Crossover\n",
    "    for i in range(len(pairs)):\n",
    "        # Generate crossover point k, k = [0, chromosome's len]\n",
    "        crosspoint = int(np.random.randint(0, genes_num-1, 1))\n",
    "        offspr_1, offspr_2 = cross(parents[i], parents[pairs[i]], k=crosspoint)\n",
    "        offsprings.append(offspr_1)\n",
    "        offsprings.append(offspr_2)\n",
    "        if debug is True:\n",
    "            print(\"%s crossover %s = %s(%d), %s(%d), k=%d\" % (parents[i], parents[pairs[i]], \n",
    "                                                            offspr_1, int(offspr_1, 2), \n",
    "                                                            offspr_2, int(offspr_2, 2),\n",
    "                                                            crosspoint))\n",
    "    #return (np.array([int(offspr, 2) for offspr in offsprings]))\n",
    "    return (offsprings)"
   ]
  },
  {
   "cell_type": "code",
   "execution_count": 410,
   "metadata": {
    "collapsed": true
   },
   "outputs": [],
   "source": [
    "def mutation(offsprings, mutation_probability=0.3, debug=True):\n",
    "    # \"Roll a dice\" for every offspring to determine\n",
    "    # if mutation will be applied to it\n",
    "    probabilities = [float(\"%.2f\"%(np.random.rand())) for offspring in offsprings]\n",
    "    new_population = []\n",
    "    mutation_counter = 0\n",
    "    for offspring, probability in zip(offsprings, probabilities):\n",
    "        # If generated probability <= real mutation prob,\n",
    "        # generate gene index to invert and then invert it\n",
    "        if probability <= mutation_probability:\n",
    "            mutation_counter += 1\n",
    "            k = int(np.random.randint(0, len(offspring), 1))\n",
    "            offspring = invert(offspring, k)\n",
    "        new_population.append(offspring)\n",
    "    if debug is True:\n",
    "        print(probabilities)\n",
    "        print(\"Mutations in generation: \", mutation_counter)\n",
    "    \n",
    "    return new_population"
   ]
  },
  {
   "cell_type": "code",
   "execution_count": 268,
   "metadata": {},
   "outputs": [],
   "source": [
    "# The task is to find x that will maximize fitness function Y = x^2, \n",
    "# i.e. ans = argmax(x, Y = x^2)\n",
    "X = np.array(list(range(50)))"
   ]
  },
  {
   "cell_type": "code",
   "execution_count": 372,
   "metadata": {},
   "outputs": [
    {
     "data": {
      "text/plain": [
       "array([[  25,  625],\n",
       "       [  37, 1369],\n",
       "       [  24,  576],\n",
       "       [  23,  529],\n",
       "       [  20,  400],\n",
       "       [   4,   16]])"
      ]
     },
     "execution_count": 372,
     "metadata": {},
     "output_type": "execute_result"
    }
   ],
   "source": [
    "# Generate population of 5 chromosomes\n",
    "size = 6\n",
    "initial_population = generate_population(X, population_power=size)\n",
    "initial_population\n",
    "#population = [[13, '', 169],[24, '', 576],[8, '', 64],[19, '10011', 361]]"
   ]
  },
  {
   "cell_type": "code",
   "execution_count": 373,
   "metadata": {},
   "outputs": [],
   "source": [
    "#population = reproduction(initial_population, debug=True)\n",
    "#print(population)"
   ]
  },
  {
   "cell_type": "code",
   "execution_count": 407,
   "metadata": {},
   "outputs": [
    {
     "name": "stdout",
     "output_type": "stream",
     "text": [
      "Population:  ['011001' '100101' '011000' '010111' '010100' '000100']\n",
      "Chromosomes' pairs: \n",
      "chrome[0] x chrome[4]\n",
      "chrome[1] x chrome[1]\n",
      "chrome[2] x chrome[2]\n",
      "011001 crossover 010100 = 011100(28), 010001(17), k=3\n",
      "100101 crossover 100101 = 100101(37), 100101(37), k=1\n",
      "011000 crossover 011000 = 011000(24), 011000(24), k=1\n"
     ]
    }
   ],
   "source": [
    "new_generation = crossover(initial_population)"
   ]
  },
  {
   "cell_type": "code",
   "execution_count": 411,
   "metadata": {},
   "outputs": [
    {
     "name": "stdout",
     "output_type": "stream",
     "text": [
      "['011100', '010001', '100101', '100101', '011000', '011000']\n",
      "[28, 17, 37, 37, 24, 24]\n"
     ]
    }
   ],
   "source": [
    "print(new_generation)\n",
    "print([int(chromosome, 2) for chromosome in new_generation])"
   ]
  },
  {
   "cell_type": "code",
   "execution_count": 412,
   "metadata": {},
   "outputs": [
    {
     "name": "stdout",
     "output_type": "stream",
     "text": [
      "[0.69, 0.02, 0.26, 0.16, 0.42, 0.52]\n",
      "Mutations in generation:  3\n",
      "['011100', '110001', '100001', '100100', '011000', '011000']\n",
      "[28, 49, 33, 36, 24, 24]\n"
     ]
    }
   ],
   "source": [
    "mutated_generation = mutation(new_generation)\n",
    "print(mutated_generation)\n",
    "print([int(chromosome, 2) for chromosome in mutated_generation])"
   ]
  },
  {
   "cell_type": "code",
   "execution_count": 384,
   "metadata": {},
   "outputs": [
    {
     "data": {
      "text/plain": [
       "'0111'"
      ]
     },
     "execution_count": 384,
     "metadata": {},
     "output_type": "execute_result"
    }
   ],
   "source": []
  },
  {
   "cell_type": "code",
   "execution_count": null,
   "metadata": {
    "collapsed": true
   },
   "outputs": [],
   "source": []
  }
 ],
 "metadata": {
  "kernelspec": {
   "display_name": "Python 3",
   "language": "python",
   "name": "python3"
  },
  "language_info": {
   "codemirror_mode": {
    "name": "ipython",
    "version": 3
   },
   "file_extension": ".py",
   "mimetype": "text/x-python",
   "name": "python",
   "nbconvert_exporter": "python",
   "pygments_lexer": "ipython3",
   "version": "3.6.1"
  }
 },
 "nbformat": 4,
 "nbformat_minor": 2
}
